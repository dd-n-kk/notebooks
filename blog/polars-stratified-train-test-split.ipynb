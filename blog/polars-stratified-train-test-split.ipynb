{
  "nbformat": 4,
  "nbformat_minor": 0,
  "metadata": {
    "colab": {
      "provenance": []
    },
    "kernelspec": {
      "name": "python3",
      "display_name": "Python 3"
    },
    "language_info": {
      "name": "python"
    }
  },
  "cells": [
    {
      "cell_type": "markdown",
      "source": [
        "---\n",
        "date:\n",
        "  created: 2025-04-27\n",
        "  updated: 2025-04-27\n",
        "\n",
        "categories:\n",
        "- Data preparation\n",
        "\n",
        "tags:\n",
        "- Polars\n",
        "\n",
        "slug: polars-stratified-train-test-split\n",
        "---\n",
        "\n",
        "# Stratified train-test split with Polars\n",
        "\n",
        "<a href=\"https://colab.research.google.com/github/dd-n-kk/notebooks/blob/main/blog/polars-stratified-train-test-split.ipynb\" target=\"_parent\">\n",
        "    :simple-googlecolab: Colab notebook\n",
        "</a>\n",
        "\n",
        "<!-- more -->"
      ],
      "metadata": {
        "id": "kWcuIqFh5FUG"
      }
    },
    {
      "cell_type": "markdown",
      "source": [
        "## Preparations"
      ],
      "metadata": {
        "id": "e4lssicEr3i8"
      }
    },
    {
      "cell_type": "code",
      "source": [
        "!uv pip install -Uq polars"
      ],
      "metadata": {
        "id": "ELsvc-6wr6WA"
      },
      "execution_count": 2,
      "outputs": []
    },
    {
      "cell_type": "code",
      "source": [
        "import numpy as np\n",
        "import polars as pl"
      ],
      "metadata": {
        "id": "XBwWs1vbr_f0"
      },
      "execution_count": 3,
      "outputs": []
    },
    {
      "cell_type": "code",
      "source": [
        "_ = pl.Config(\n",
        "    float_precision=3,\n",
        "    fmt_str_lengths=200,\n",
        "    fmt_table_cell_list_len=-1,\n",
        "    tbl_cols=-1,\n",
        "    tbl_rows=100,\n",
        "    tbl_width_chars=100,\n",
        ")\n",
        "\n",
        "rng = np.random.default_rng(seed=777)"
      ],
      "metadata": {
        "id": "PWO69UQxsLUr"
      },
      "execution_count": 4,
      "outputs": []
    },
    {
      "cell_type": "markdown",
      "source": [
        "## Dummy data set"
      ],
      "metadata": {
        "id": "lTlwetiprw_a"
      }
    },
    {
      "cell_type": "code",
      "source": [
        "labels = rng.choice(4, size=1000, p=[0.1, 0.2, 0.3, 0.4])\n",
        "features = rng.standard_normal((1000, 2)) * 0.1 + labels[:, None]\n",
        "\n",
        "data = (\n",
        "    pl.concat(\n",
        "        (\n",
        "            pl.from_numpy(features, schema=[\"feat_1\", \"feat_2\"]),\n",
        "            pl.from_numpy(labels, schema=[\"label\"]),\n",
        "        ),\n",
        "        how=\"horizontal\",\n",
        "    )\n",
        "    .with_row_index(name=\"id\")\n",
        ")"
      ],
      "metadata": {
        "id": "1iQ3LzXvsgiT"
      },
      "execution_count": 6,
      "outputs": []
    },
    {
      "cell_type": "code",
      "source": [
        "data.sample(5)"
      ],
      "metadata": {
        "colab": {
          "base_uri": "https://localhost:8080/",
          "height": 255
        },
        "id": "AvhzAumHtvk1",
        "outputId": "bc0405c2-6cb0-4bfc-bd38-279e9049a399"
      },
      "execution_count": 15,
      "outputs": [
        {
          "output_type": "execute_result",
          "data": {
            "text/plain": [
              "shape: (5, 4)\n",
              "┌─────┬────────┬────────┬───────┐\n",
              "│ id  ┆ feat_1 ┆ feat_2 ┆ label │\n",
              "│ --- ┆ ---    ┆ ---    ┆ ---   │\n",
              "│ u32 ┆ f64    ┆ f64    ┆ i64   │\n",
              "╞═════╪════════╪════════╪═══════╡\n",
              "│ 697 ┆ 1.121  ┆ 0.946  ┆ 1     │\n",
              "│ 174 ┆ 2.938  ┆ 3.047  ┆ 3     │\n",
              "│ 941 ┆ 2.881  ┆ 3.010  ┆ 3     │\n",
              "│ 867 ┆ 1.995  ┆ 2.098  ┆ 2     │\n",
              "│ 765 ┆ 2.820  ┆ 3.101  ┆ 3     │\n",
              "└─────┴────────┴────────┴───────┘"
            ],
            "text/html": [
              "<div><style>\n",
              ".dataframe > thead > tr,\n",
              ".dataframe > tbody > tr {\n",
              "  text-align: right;\n",
              "  white-space: pre-wrap;\n",
              "}\n",
              "</style>\n",
              "<small>shape: (5, 4)</small><table border=\"1\" class=\"dataframe\"><thead><tr><th>id</th><th>feat_1</th><th>feat_2</th><th>label</th></tr><tr><td>u32</td><td>f64</td><td>f64</td><td>i64</td></tr></thead><tbody><tr><td>697</td><td>1.121</td><td>0.946</td><td>1</td></tr><tr><td>174</td><td>2.938</td><td>3.047</td><td>3</td></tr><tr><td>941</td><td>2.881</td><td>3.010</td><td>3</td></tr><tr><td>867</td><td>1.995</td><td>2.098</td><td>2</td></tr><tr><td>765</td><td>2.820</td><td>3.101</td><td>3</td></tr></tbody></table></div>"
            ]
          },
          "metadata": {},
          "execution_count": 15
        }
      ]
    },
    {
      "cell_type": "code",
      "source": [
        "data.get_column(\"label\").value_counts().sort(\"label\")"
      ],
      "metadata": {
        "colab": {
          "base_uri": "https://localhost:8080/",
          "height": 223
        },
        "id": "7TLdVC0GtA3b",
        "outputId": "77fe4584-3b8e-4b63-aea5-6442dacd4993"
      },
      "execution_count": 16,
      "outputs": [
        {
          "output_type": "execute_result",
          "data": {
            "text/plain": [
              "shape: (4, 2)\n",
              "┌───────┬───────┐\n",
              "│ label ┆ count │\n",
              "│ ---   ┆ ---   │\n",
              "│ i64   ┆ u32   │\n",
              "╞═══════╪═══════╡\n",
              "│ 0     ┆ 98    │\n",
              "│ 1     ┆ 211   │\n",
              "│ 2     ┆ 297   │\n",
              "│ 3     ┆ 394   │\n",
              "└───────┴───────┘"
            ],
            "text/html": [
              "<div><style>\n",
              ".dataframe > thead > tr,\n",
              ".dataframe > tbody > tr {\n",
              "  text-align: right;\n",
              "  white-space: pre-wrap;\n",
              "}\n",
              "</style>\n",
              "<small>shape: (4, 2)</small><table border=\"1\" class=\"dataframe\"><thead><tr><th>label</th><th>count</th></tr><tr><td>i64</td><td>u32</td></tr></thead><tbody><tr><td>0</td><td>98</td></tr><tr><td>1</td><td>211</td></tr><tr><td>2</td><td>297</td></tr><tr><td>3</td><td>394</td></tr></tbody></table></div>"
            ]
          },
          "metadata": {},
          "execution_count": 16
        }
      ]
    },
    {
      "cell_type": "markdown",
      "source": [
        "## Stratified train-test split"
      ],
      "metadata": {
        "id": "r1QSGX1MulTU"
      }
    },
    {
      "cell_type": "markdown",
      "source": [
        "### Train split"
      ],
      "metadata": {
        "id": "CGyeNOYo27rV"
      }
    },
    {
      "cell_type": "code",
      "source": [
        "train_split = data.select(\n",
        "    pl.all()\n",
        "    .sample(fraction=0.9, shuffle=True, seed=777)\n",
        "    .over(\"label\", mapping_strategy=\"explode\")\n",
        ")"
      ],
      "metadata": {
        "id": "5-xmQuPwesI8"
      },
      "execution_count": 19,
      "outputs": []
    },
    {
      "cell_type": "code",
      "source": [
        "train_split.sample(5)"
      ],
      "metadata": {
        "colab": {
          "base_uri": "https://localhost:8080/",
          "height": 255
        },
        "id": "2m02dy58yR5L",
        "outputId": "c5588562-5765-4cc0-8460-025f7e7ee6cd"
      },
      "execution_count": 20,
      "outputs": [
        {
          "output_type": "execute_result",
          "data": {
            "text/plain": [
              "shape: (5, 4)\n",
              "┌─────┬────────┬────────┬───────┐\n",
              "│ id  ┆ feat_1 ┆ feat_2 ┆ label │\n",
              "│ --- ┆ ---    ┆ ---    ┆ ---   │\n",
              "│ u32 ┆ f64    ┆ f64    ┆ i64   │\n",
              "╞═════╪════════╪════════╪═══════╡\n",
              "│ 860 ┆ 2.946  ┆ 2.852  ┆ 3     │\n",
              "│ 876 ┆ 1.893  ┆ 1.875  ┆ 2     │\n",
              "│ 327 ┆ 3.035  ┆ 3.023  ┆ 3     │\n",
              "│ 657 ┆ -0.170 ┆ 0.106  ┆ 0     │\n",
              "│ 607 ┆ -0.188 ┆ 0.241  ┆ 0     │\n",
              "└─────┴────────┴────────┴───────┘"
            ],
            "text/html": [
              "<div><style>\n",
              ".dataframe > thead > tr,\n",
              ".dataframe > tbody > tr {\n",
              "  text-align: right;\n",
              "  white-space: pre-wrap;\n",
              "}\n",
              "</style>\n",
              "<small>shape: (5, 4)</small><table border=\"1\" class=\"dataframe\"><thead><tr><th>id</th><th>feat_1</th><th>feat_2</th><th>label</th></tr><tr><td>u32</td><td>f64</td><td>f64</td><td>i64</td></tr></thead><tbody><tr><td>860</td><td>2.946</td><td>2.852</td><td>3</td></tr><tr><td>876</td><td>1.893</td><td>1.875</td><td>2</td></tr><tr><td>327</td><td>3.035</td><td>3.023</td><td>3</td></tr><tr><td>657</td><td>-0.170</td><td>0.106</td><td>0</td></tr><tr><td>607</td><td>-0.188</td><td>0.241</td><td>0</td></tr></tbody></table></div>"
            ]
          },
          "metadata": {},
          "execution_count": 20
        }
      ]
    },
    {
      "cell_type": "code",
      "source": [
        "train_split.shape"
      ],
      "metadata": {
        "colab": {
          "base_uri": "https://localhost:8080/"
        },
        "id": "_Coay_j_xaEj",
        "outputId": "acbf0fb8-4d08-4c38-ad06-8742920a0592"
      },
      "execution_count": 18,
      "outputs": [
        {
          "output_type": "execute_result",
          "data": {
            "text/plain": [
              "(898, 4)"
            ]
          },
          "metadata": {},
          "execution_count": 18
        }
      ]
    },
    {
      "cell_type": "code",
      "source": [
        "train_split.get_column(\"label\").value_counts(normalize=True).sort(\"label\")"
      ],
      "metadata": {
        "colab": {
          "base_uri": "https://localhost:8080/",
          "height": 223
        },
        "id": "DYDimSd6xiqO",
        "outputId": "d50bf1d0-f61a-4812-c95b-18045471e94e"
      },
      "execution_count": 23,
      "outputs": [
        {
          "output_type": "execute_result",
          "data": {
            "text/plain": [
              "shape: (4, 2)\n",
              "┌───────┬────────────┐\n",
              "│ label ┆ proportion │\n",
              "│ ---   ┆ ---        │\n",
              "│ i64   ┆ f64        │\n",
              "╞═══════╪════════════╡\n",
              "│ 0     ┆ 0.098      │\n",
              "│ 1     ┆ 0.210      │\n",
              "│ 2     ┆ 0.297      │\n",
              "│ 3     ┆ 0.394      │\n",
              "└───────┴────────────┘"
            ],
            "text/html": [
              "<div><style>\n",
              ".dataframe > thead > tr,\n",
              ".dataframe > tbody > tr {\n",
              "  text-align: right;\n",
              "  white-space: pre-wrap;\n",
              "}\n",
              "</style>\n",
              "<small>shape: (4, 2)</small><table border=\"1\" class=\"dataframe\"><thead><tr><th>label</th><th>proportion</th></tr><tr><td>i64</td><td>f64</td></tr></thead><tbody><tr><td>0</td><td>0.098</td></tr><tr><td>1</td><td>0.210</td></tr><tr><td>2</td><td>0.297</td></tr><tr><td>3</td><td>0.394</td></tr></tbody></table></div>"
            ]
          },
          "metadata": {},
          "execution_count": 23
        }
      ]
    },
    {
      "cell_type": "markdown",
      "source": [
        "### Test (or validation) split"
      ],
      "metadata": {
        "id": "77YIwIKd3Cwf"
      }
    },
    {
      "cell_type": "code",
      "source": [
        "test_split = data.join(train_split, on=\"id\", how=\"anti\")"
      ],
      "metadata": {
        "id": "NqK1kxRiyfjE"
      },
      "execution_count": 24,
      "outputs": []
    },
    {
      "cell_type": "code",
      "source": [
        "test_split.shape"
      ],
      "metadata": {
        "colab": {
          "base_uri": "https://localhost:8080/"
        },
        "id": "UrX8WtP53RXl",
        "outputId": "d5de036e-e133-4d09-f633-c3a2488444de"
      },
      "execution_count": 25,
      "outputs": [
        {
          "output_type": "execute_result",
          "data": {
            "text/plain": [
              "(102, 4)"
            ]
          },
          "metadata": {},
          "execution_count": 25
        }
      ]
    },
    {
      "cell_type": "code",
      "source": [
        "test_split.get_column(\"label\").value_counts(normalize=True).sort(\"label\")"
      ],
      "metadata": {
        "colab": {
          "base_uri": "https://localhost:8080/",
          "height": 223
        },
        "id": "DDMfzltR3T42",
        "outputId": "92d40658-6382-4017-a313-9833e0668095"
      },
      "execution_count": 26,
      "outputs": [
        {
          "output_type": "execute_result",
          "data": {
            "text/plain": [
              "shape: (4, 2)\n",
              "┌───────┬────────────┐\n",
              "│ label ┆ proportion │\n",
              "│ ---   ┆ ---        │\n",
              "│ i64   ┆ f64        │\n",
              "╞═══════╪════════════╡\n",
              "│ 0     ┆ 0.098      │\n",
              "│ 1     ┆ 0.216      │\n",
              "│ 2     ┆ 0.294      │\n",
              "│ 3     ┆ 0.392      │\n",
              "└───────┴────────────┘"
            ],
            "text/html": [
              "<div><style>\n",
              ".dataframe > thead > tr,\n",
              ".dataframe > tbody > tr {\n",
              "  text-align: right;\n",
              "  white-space: pre-wrap;\n",
              "}\n",
              "</style>\n",
              "<small>shape: (4, 2)</small><table border=\"1\" class=\"dataframe\"><thead><tr><th>label</th><th>proportion</th></tr><tr><td>i64</td><td>f64</td></tr></thead><tbody><tr><td>0</td><td>0.098</td></tr><tr><td>1</td><td>0.216</td></tr><tr><td>2</td><td>0.294</td></tr><tr><td>3</td><td>0.392</td></tr></tbody></table></div>"
            ]
          },
          "metadata": {},
          "execution_count": 26
        }
      ]
    }
  ]
}