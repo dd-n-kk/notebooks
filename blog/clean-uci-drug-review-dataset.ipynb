{
  "cells": [
    {
      "cell_type": "markdown",
      "source": [
        "---\n",
        "date:\n",
        "  created: 2025-03-22\n",
        "  updated: 2025-03-30\n",
        "\n",
        "categories:\n",
        "- Data preparation\n",
        "\n",
        "tags:\n",
        "- Polars\n",
        "- Hugging Face\n",
        "\n",
        "slug: clean-uci-drug-review-dataset\n",
        "---\n",
        "\n",
        "# Cleaning UCI ML Drug Review Dataset\n",
        "\n",
        "This is my [:simple-polars: Polars][1]-centric adaptation of the tutorial\n",
        "[:simple-huggingface: Hugging Face NLP Course: Time to slice and dice][2],\n",
        "which cleans the UCI ML Drug Review dataset available on\n",
        "[:fontawesome-brands-kaggle: Kaggle][3].\n",
        "\n",
        "Cleaned dataset on Hugging Face Hub: [:material-database: dd-n-kk/uci-drug-review-cleaned][4]\n",
        "\n",
        "<a href=\"https://colab.research.google.com/github/dd-n-kk/notebooks/blob/main/blog/clean-uci-drug-review-dataset.ipynb\" target=\"_parent\">\n",
        "    :simple-googlecolab: Colab notebook\n",
        "</a>\n",
        "\n",
        "<!-- more -->"
      ],
      "metadata": {
        "id": "tvvI67gNf13i"
      }
    },
    {
      "cell_type": "markdown",
      "source": [
        "## Preparations"
      ],
      "metadata": {
        "id": "4loAZ2o8n0e5"
      }
    },
    {
      "cell_type": "code",
      "source": [
        "# Set this to an empty string to avoid saving the dataset file.\n",
        "DATA_DIR = \"uci-drug-review-cleaned/\"\n",
        "\n",
        "# Set these to empty strings to avoid uploading the dataset.\n",
        "REPO_ID = \"dd-n-kk/uci-drug-review-cleaned\"\n",
        "SECRET = \"HF_TOKEN\""
      ],
      "metadata": {
        "id": "k4kz8sswDyNK"
      },
      "execution_count": null,
      "outputs": []
    },
    {
      "cell_type": "code",
      "source": [
        "!uv pip install --system -Uq polars"
      ],
      "metadata": {
        "id": "Dbmj39GznFGE"
      },
      "execution_count": null,
      "outputs": []
    },
    {
      "cell_type": "code",
      "source": [
        "import kagglehub\n",
        "import polars as pl\n",
        "from polars import col"
      ],
      "metadata": {
        "id": "Knu_Vox7sfst"
      },
      "execution_count": null,
      "outputs": []
    },
    {
      "cell_type": "code",
      "source": [
        "path = kagglehub.dataset_download(\"jessicali9530/kuc-hackathon-winter-2018\")\n",
        "!mkdir data/ && cp -t data/ {path}/* && ls -hAil data"
      ],
      "metadata": {
        "colab": {
          "base_uri": "https://localhost:8080/"
        },
        "id": "rCmjbv0HrdZC",
        "outputId": "2ac62a18-52f4-4d10-efbf-6e2168bc87fc"
      },
      "execution_count": null,
      "outputs": [
        {
          "output_type": "stream",
          "name": "stdout",
          "text": [
            "Downloading from https://www.kaggle.com/api/v1/datasets/download/jessicali9530/kuc-hackathon-winter-2018?dataset_version_number=2...\n"
          ]
        },
        {
          "output_type": "stream",
          "name": "stderr",
          "text": [
            "100%|██████████| 40.7M/40.7M [00:00<00:00, 44.6MB/s]"
          ]
        },
        {
          "output_type": "stream",
          "name": "stdout",
          "text": [
            "Extracting files...\n"
          ]
        },
        {
          "output_type": "stream",
          "name": "stderr",
          "text": [
            "\n"
          ]
        },
        {
          "output_type": "stream",
          "name": "stdout",
          "text": [
            "total 106M\n",
            "2364654 -rw-r--r-- 1 root root 27M Mar 22 13:17 drugsComTest_raw.csv\n",
            "2364655 -rw-r--r-- 1 root root 80M Mar 22 13:17 drugsComTrain_raw.csv\n"
          ]
        }
      ]
    },
    {
      "cell_type": "code",
      "source": [
        "SEED = 777\n",
        "pl.set_random_seed(SEED)\n",
        "\n",
        "# Configure Polars for more complete display.\n",
        "_ = pl.Config(\n",
        "    tbl_cols=-1,\n",
        "    tbl_rows=100,\n",
        "    tbl_width_chars=-1,\n",
        "    float_precision=3,\n",
        "    fmt_str_lengths=500,\n",
        "    fmt_table_cell_list_len=-1,\n",
        ")"
      ],
      "metadata": {
        "id": "LDsSNWKeU-vV"
      },
      "execution_count": null,
      "outputs": []
    },
    {
      "cell_type": "code",
      "source": [
        "df = pl.read_csv(\"data/drugsComTrain_raw.csv\")"
      ],
      "metadata": {
        "id": "YZj29_KyVS8l"
      },
      "execution_count": null,
      "outputs": []
    },
    {
      "cell_type": "markdown",
      "source": [
        "## Observations\n",
        "\n",
        "- `drugName`:\n",
        "    - Capitalization is inconsistent (\"A + D Cracked Skin Relief\" vs. \"femhrt\").\n",
        "    - There are combination prescriptions (\"Ethinyl estradiol / norgestimate\").\n",
        "\n",
        "- `condition`:\n",
        "    - There are 899 nulls.\n",
        "    - There are corrupted values:\n",
        "        - \"0`</span>` users found this comment helpful.\"\n",
        "        - \"zen Shoulde\" should probably be \"Frozen Shoulder\".\n",
        "\n",
        "- `review`:\n",
        "    - There are HTML entities (`&#039;`).\n",
        "    - There are emojis (❤️❤️❤️).\n",
        "\n",
        "- `date`:\n",
        "    - The format could be simplified (\"1-Apr-08\")."
      ],
      "metadata": {
        "id": "GvZokzgGyb4v"
      }
    },
    {
      "cell_type": "code",
      "source": [
        "df.describe()"
      ],
      "metadata": {
        "colab": {
          "base_uri": "https://localhost:8080/",
          "height": 484
        },
        "id": "kOJmeh2zaWqX",
        "outputId": "4f6824dd-38a9-4662-b4c9-59507e5db583"
      },
      "execution_count": null,
      "outputs": [
        {
          "output_type": "execute_result",
          "data": {
            "text/plain": [
              "shape: (9, 8)\n",
              "┌────────────┬────────────┬───────────────────────────┬────────────────────────────────────────────┬─────────────────────────────────────────────────────────────────────────────────────────────────────────────────────────────────────────────────────────────────────────────────────────────────────────────────────────────────────┬────────────┬──────────┬─────────────┐\n",
              "│ statistic  ┆ uniqueID   ┆ drugName                  ┆ condition                                  ┆ review                                                                                                                                                                                                                              ┆ rating     ┆ date     ┆ usefulCount │\n",
              "│ ---        ┆ ---        ┆ ---                       ┆ ---                                        ┆ ---                                                                                                                                                                                                                                 ┆ ---        ┆ ---      ┆ ---         │\n",
              "│ str        ┆ f64        ┆ str                       ┆ str                                        ┆ str                                                                                                                                                                                                                                 ┆ f64        ┆ str      ┆ f64         │\n",
              "╞════════════╪════════════╪═══════════════════════════╪════════════════════════════════════════════╪═════════════════════════════════════════════════════════════════════════════════════════════════════════════════════════════════════════════════════════════════════════════════════════════════════════════════════════════════════╪════════════╪══════════╪═════════════╡\n",
              "│ count      ┆ 161297.000 ┆ 161297                    ┆ 160398                                     ┆ 161297                                                                                                                                                                                                                              ┆ 161297.000 ┆ 161297   ┆ 161297.000  │\n",
              "│ null_count ┆ 0.000      ┆ 0                         ┆ 899                                        ┆ 0                                                                                                                                                                                                                                   ┆ 0.000      ┆ 0        ┆ 0.000       │\n",
              "│ mean       ┆ 115923.585 ┆ null                      ┆ null                                       ┆ null                                                                                                                                                                                                                                ┆ 6.994      ┆ null     ┆ 28.005      │\n",
              "│ std        ┆ 67004.445  ┆ null                      ┆ null                                       ┆ null                                                                                                                                                                                                                                ┆ 3.272      ┆ null     ┆ 36.404      │\n",
              "│ min        ┆ 2.000      ┆ A + D Cracked Skin Relief ┆ 0</span> users found this comment helpful. ┆ \"\n",
              "                                                                                                                                                                                                                                  ┆ 1.000      ┆ 1-Apr-08 ┆ 0.000       │\n",
              "│            ┆            ┆                           ┆                                            ┆ \n",
              "                                                                                                                                                                                                                                   ┆            ┆          ┆             │\n",
              "│            ┆            ┆                           ┆                                            ┆  please tell the ones who is suffering from anxiety to use lavender chamomile spray by air wick.  it gives immediate relief , doctors not letting know patients about this. please spread the word!!.  Please keep this post here.\" ┆            ┆          ┆             │\n",
              "│ 25%        ┆ 58063.000  ┆ null                      ┆ null                                       ┆ null                                                                                                                                                                                                                                ┆ 5.000      ┆ null     ┆ 6.000       │\n",
              "│ 50%        ┆ 115744.000 ┆ null                      ┆ null                                       ┆ null                                                                                                                                                                                                                                ┆ 8.000      ┆ null     ┆ 16.000      │\n",
              "│ 75%        ┆ 173776.000 ┆ null                      ┆ null                                       ┆ null                                                                                                                                                                                                                                ┆ 10.000     ┆ null     ┆ 36.000      │\n",
              "│ max        ┆ 232291.000 ┆ femhrt                    ┆ zen Shoulde                                ┆ \"❤️❤️❤️ Cialis for US!!    I wish I had my husband start this decades ago \"                                                                                                                                                         ┆ 10.000     ┆ 9-Sep-17 ┆ 1291.000    │\n",
              "└────────────┴────────────┴───────────────────────────┴────────────────────────────────────────────┴─────────────────────────────────────────────────────────────────────────────────────────────────────────────────────────────────────────────────────────────────────────────────────────────────────────────────────────────────────┴────────────┴──────────┴─────────────┘"
            ],
            "text/html": [
              "<div><style>\n",
              ".dataframe > thead > tr,\n",
              ".dataframe > tbody > tr {\n",
              "  text-align: right;\n",
              "  white-space: pre-wrap;\n",
              "}\n",
              "</style>\n",
              "<small>shape: (9, 8)</small><table border=\"1\" class=\"dataframe\"><thead><tr><th>statistic</th><th>uniqueID</th><th>drugName</th><th>condition</th><th>review</th><th>rating</th><th>date</th><th>usefulCount</th></tr><tr><td>str</td><td>f64</td><td>str</td><td>str</td><td>str</td><td>f64</td><td>str</td><td>f64</td></tr></thead><tbody><tr><td>&quot;count&quot;</td><td>161297.000</td><td>&quot;161297&quot;</td><td>&quot;160398&quot;</td><td>&quot;161297&quot;</td><td>161297.000</td><td>&quot;161297&quot;</td><td>161297.000</td></tr><tr><td>&quot;null_count&quot;</td><td>0.000</td><td>&quot;0&quot;</td><td>&quot;899&quot;</td><td>&quot;0&quot;</td><td>0.000</td><td>&quot;0&quot;</td><td>0.000</td></tr><tr><td>&quot;mean&quot;</td><td>115923.585</td><td>null</td><td>null</td><td>null</td><td>6.994</td><td>null</td><td>28.005</td></tr><tr><td>&quot;std&quot;</td><td>67004.445</td><td>null</td><td>null</td><td>null</td><td>3.272</td><td>null</td><td>36.404</td></tr><tr><td>&quot;min&quot;</td><td>2.000</td><td>&quot;A + D Cracked Skin Relief&quot;</td><td>&quot;0&lt;/span&gt; users found this comment helpful.&quot;</td><td>&quot;&quot;\r\n",
              "\r\n",
              " please tell the ones who is suffering from anxiety to use lavender chamomile spray by air wick.&nbsp;&nbsp;it gives immediate relief , doctors not letting know patients about this. please spread the word!!.&nbsp;&nbsp;Please keep this post here.&quot;&quot;</td><td>1.000</td><td>&quot;1-Apr-08&quot;</td><td>0.000</td></tr><tr><td>&quot;25%&quot;</td><td>58063.000</td><td>null</td><td>null</td><td>null</td><td>5.000</td><td>null</td><td>6.000</td></tr><tr><td>&quot;50%&quot;</td><td>115744.000</td><td>null</td><td>null</td><td>null</td><td>8.000</td><td>null</td><td>16.000</td></tr><tr><td>&quot;75%&quot;</td><td>173776.000</td><td>null</td><td>null</td><td>null</td><td>10.000</td><td>null</td><td>36.000</td></tr><tr><td>&quot;max&quot;</td><td>232291.000</td><td>&quot;femhrt&quot;</td><td>&quot;zen Shoulde&quot;</td><td>&quot;&quot;❤️❤️❤️ Cialis for US!!&nbsp;&nbsp;&nbsp;&nbsp;I wish I had my husband start this decades ago &quot;&quot;</td><td>10.000</td><td>&quot;9-Sep-17&quot;</td><td>1291.000</td></tr></tbody></table></div>"
            ]
          },
          "metadata": {},
          "execution_count": 7
        }
      ]
    },
    {
      "cell_type": "code",
      "source": [
        "df.sample(10, seed=SEED)"
      ],
      "metadata": {
        "colab": {
          "base_uri": "https://localhost:8080/",
          "height": 863
        },
        "id": "qCpZjhnqV3Dp",
        "outputId": "f3cf851e-62f3-459d-d421-33b5ef0d4045"
      },
      "execution_count": null,
      "outputs": [
        {
          "output_type": "execute_result",
          "data": {
            "text/plain": [
              "shape: (10, 7)\n",
              "┌──────────┬───────────────────────────────────┬──────────────────────────┬───────────────────────────────────────────────────────────────────────────────────────────────────────────────────────────────────────────────────────────────────────────────────────────────────────────────────────────────────────────────────────────────────────────────────────────────────────────────────────────────────────────────────────────────────────────────────────────────────────────────────────────────────────────────────────────────────────────────────────────────────────────────────────┬────────┬───────────┬─────────────┐\n",
              "│ uniqueID ┆ drugName                          ┆ condition                ┆ review                                                                                                                                                                                                                                                                                                                                                                                                                                                                                                                ┆ rating ┆ date      ┆ usefulCount │\n",
              "│ ---      ┆ ---                               ┆ ---                      ┆ ---                                                                                                                                                                                                                                                                                                                                                                                                                                                                                                                   ┆ ---    ┆ ---       ┆ ---         │\n",
              "│ i64      ┆ str                               ┆ str                      ┆ str                                                                                                                                                                                                                                                                                                                                                                                                                                                                                                                   ┆ i64    ┆ str       ┆ i64         │\n",
              "╞══════════╪═══════════════════════════════════╪══════════════════════════╪═══════════════════════════════════════════════════════════════════════════════════════════════════════════════════════════════════════════════════════════════════════════════════════════════════════════════════════════════════════════════════════════════════════════════════════════════════════════════════════════════════════════════════════════════════════════════════════════════════════════════════════════════════════════════════════════════════════════════════════════════════════════════════════╪════════╪═══════════╪═════════════╡\n",
              "│ 63419    ┆ Epiduo                            ┆ Acne                     ┆ \"I have been using epiduo for almost a week now and it has been burning a little bit, so i cut back on how much i put on my face and it feels much better. I did not have alot of acne at all before using it but only a few on my cheeks and those are all gone now after a few days of use. The few bumps on ny forehead are still there but im positive the epiduo is fighting to get rid of it. I will give it a couple of weeks :). (avoid using in eye area, and area right AROUND nose... those are sensitive… ┆ 8      ┆ 27-Jun-16 ┆ 4           │\n",
              "│ 152744   ┆ Doxycycline                       ┆ Bacterial Infection      ┆ \"Have been taking this med now for the past 8 days, for an acute sinusitis infection, and paid strict attention to the pharmacists instructions..... YOU MUST DRINK A FULL GLASS OF WATER after you&#039;ve taken it.  Don&#039;t disregard these rules, or you will have severe side effects.   Otherwise I&#039;m hoping this time, doxy will clear it up as I was on amoxy and that didn&#039;t. This infection keeps repeating because of two bouts of pneumonia, and I&#039;m sure residual infection wasn&#039… ┆ 8      ┆ 3-Nov-17  ┆ 2           │\n",
              "│ 126485   ┆ Brimonidine                       ┆ Rosacea                  ┆ \"Stay away from this medication. The 1st day used, I was impressed, but 2 days later I had a rebound and my face was burning like hell. I waited like 4 days to re-apply and see what happens, but I lost sensation on my lips and they got swollen. Then, after 24 hours the rebound got worse and was like two weeks after my skin stopped burning. I still don&#039;t understand how this product was approved by the FDA.\"                                                                                        ┆ 1      ┆ 27-Jun-16 ┆ 21          │\n",
              "│ 208405   ┆ Oseltamivir                       ┆ Influenza                ┆ \"Sick sick with flu, tamiflu added to illness, nausea &amp; vomiting, don&#039;t know if made flu last shorter, made me too nauseous to know, just ride out the virus, plan on being sick for a week, don&#039;t burden your body with meds that may make you sick\"                                                                                                                                                                                                                                                   ┆ 2      ┆ 25-Dec-15 ┆ 17          │\n",
              "│ 166105   ┆ Levonorgestrel                    ┆ null                     ┆ \"Well I&#039;m the first one reviewing this... I got my Kyleena IUD placed on Dec. 2nd 2016. It was painful but no more so than other IUDs I&#039;ve read about. The issues I&#039;m having is contant spotting. I&#039;ve been bleeding lightly (where I have to wear a light pad so I don&#039;t ruin my underwear every day) for two months now. The office told me about a month ago that my spotting is normal and most likely means once I stop spotting I&#039;ll be done with my period for the five years K… ┆ 5      ┆ 30-Jan-17 ┆ 17          │\n",
              "│ 16075    ┆ Ethinyl estradiol / norethindrone ┆ Birth Control            ┆ \"I&#039;m 14 years old and I&#039;ve been on it for 4 months and I hate it. I&#039;m on it for regular periods since my blood flows too quickly and it has done nothing. I&#039;ve been on my period for 4 months, light mostly but heavy sometimes. I also went on it for my acne but it did nothing. I gained 4 pounds and now I have stubborn belly fat. I also have huge stretch marks (idk if its related but they showed up when I took it). Also, I have no motivation anymore. Don&#039;t take this please!\"  ┆ 3      ┆ 27-May-16 ┆ 4           │\n",
              "│ 223196   ┆ Estradiol                         ┆ Postmenopausal Symptoms  ┆ \"I have had a great experience with the Minivelle patch.  I was suffering with many, many, hot flashes a day and night sweats that left me drenched!  I am down to a handful of flashes a day and the night sweats are gone!\"                                                                                                                                                                                                                                                                                         ┆ 10     ┆ 15-Jul-13 ┆ 41          │\n",
              "│ 102766   ┆ Aripiprazole                      ┆ Major Depressive Disorde ┆ \"Weight gain and fatigue.\"                                                                                                                                                                                                                                                                                                                                                                                                                                                                                            ┆ 3      ┆ 29-Jul-14 ┆ 15          │\n",
              "│ 85534    ┆ Ethinyl estradiol / norgestimate  ┆ Birth Control            ┆ \"This Is An Amazing Birth Control. I&#039;ve Been On This For Five Years And Counting. I Never Got Pregnant, My Menstrual Last About 3-4 Days(Regular Period ) ,No Cramps, Face Is Clear Of Acne, From Time To Time Ive Gotten Moody But Overall I Love It!  I&#039;m Looking Forward To Getting Off And Starting A Family.\"                                                                                                                                                                                          ┆ 9      ┆ 17-Feb-15 ┆ 24          │\n",
              "│ 131566   ┆ Methyl salicylate                 ┆ Muscle Pain              ┆ \"The adhesive used for these particular patches works a lot better than the other comparable products on the market by far. As long as you get them on straight and unwrinkled the first time, they will stay on for virtually as long as they last, which also happens to exceed comparable products by far. Couple this with the much less expensive price and you have three reasons why this is simply a superior product to the others. \n",
              "                                                                        ┆ 7      ┆ 7-Jun-10  ┆ 36          │\n",
              "│          ┆                                   ┆                          ┆ \n",
              "                                                                                                                                                                                                                                                                                                                                                                                                                                                                                                                     ┆        ┆           ┆             │\n",
              "│          ┆                                   ┆                          ┆ It should be noted that the one time I almost bought another name b…                                                                                                                                                                                                                                                                                                                                                                                                                                                  ┆        ┆           ┆             │\n",
              "└──────────┴───────────────────────────────────┴──────────────────────────┴───────────────────────────────────────────────────────────────────────────────────────────────────────────────────────────────────────────────────────────────────────────────────────────────────────────────────────────────────────────────────────────────────────────────────────────────────────────────────────────────────────────────────────────────────────────────────────────────────────────────────────────────────────────────────────────────────────────────────────────────────────────────────────┴────────┴───────────┴─────────────┘"
            ],
            "text/html": [
              "<div><style>\n",
              ".dataframe > thead > tr,\n",
              ".dataframe > tbody > tr {\n",
              "  text-align: right;\n",
              "  white-space: pre-wrap;\n",
              "}\n",
              "</style>\n",
              "<small>shape: (10, 7)</small><table border=\"1\" class=\"dataframe\"><thead><tr><th>uniqueID</th><th>drugName</th><th>condition</th><th>review</th><th>rating</th><th>date</th><th>usefulCount</th></tr><tr><td>i64</td><td>str</td><td>str</td><td>str</td><td>i64</td><td>str</td><td>i64</td></tr></thead><tbody><tr><td>63419</td><td>&quot;Epiduo&quot;</td><td>&quot;Acne&quot;</td><td>&quot;&quot;I have been using epiduo for almost a week now and it has been burning a little bit, so i cut back on how much i put on my face and it feels much better. I did not have alot of acne at all before using it but only a few on my cheeks and those are all gone now after a few days of use. The few bumps on ny forehead are still there but im positive the epiduo is fighting to get rid of it. I will give it a couple of weeks :). (avoid using in eye area, and area right AROUND nose... those are sensitive…</td><td>8</td><td>&quot;27-Jun-16&quot;</td><td>4</td></tr><tr><td>152744</td><td>&quot;Doxycycline&quot;</td><td>&quot;Bacterial Infection&quot;</td><td>&quot;&quot;Have been taking this med now for the past 8 days, for an acute sinusitis infection, and paid strict attention to the pharmacists instructions..... YOU MUST DRINK A FULL GLASS OF WATER after you&amp;#039;ve taken it.&nbsp;&nbsp;Don&amp;#039;t disregard these rules, or you will have severe side effects.&nbsp;&nbsp;&nbsp;Otherwise I&amp;#039;m hoping this time, doxy will clear it up as I was on amoxy and that didn&amp;#039;t. This infection keeps repeating because of two bouts of pneumonia, and I&amp;#039;m sure residual infection wasn&amp;#039…</td><td>8</td><td>&quot;3-Nov-17&quot;</td><td>2</td></tr><tr><td>126485</td><td>&quot;Brimonidine&quot;</td><td>&quot;Rosacea&quot;</td><td>&quot;&quot;Stay away from this medication. The 1st day used, I was impressed, but 2 days later I had a rebound and my face was burning like hell. I waited like 4 days to re-apply and see what happens, but I lost sensation on my lips and they got swollen. Then, after 24 hours the rebound got worse and was like two weeks after my skin stopped burning. I still don&amp;#039;t understand how this product was approved by the FDA.&quot;&quot;</td><td>1</td><td>&quot;27-Jun-16&quot;</td><td>21</td></tr><tr><td>208405</td><td>&quot;Oseltamivir&quot;</td><td>&quot;Influenza&quot;</td><td>&quot;&quot;Sick sick with flu, tamiflu added to illness, nausea &amp;amp; vomiting, don&amp;#039;t know if made flu last shorter, made me too nauseous to know, just ride out the virus, plan on being sick for a week, don&amp;#039;t burden your body with meds that may make you sick&quot;&quot;</td><td>2</td><td>&quot;25-Dec-15&quot;</td><td>17</td></tr><tr><td>166105</td><td>&quot;Levonorgestrel&quot;</td><td>null</td><td>&quot;&quot;Well I&amp;#039;m the first one reviewing this... I got my Kyleena IUD placed on Dec. 2nd 2016. It was painful but no more so than other IUDs I&amp;#039;ve read about. The issues I&amp;#039;m having is contant spotting. I&amp;#039;ve been bleeding lightly (where I have to wear a light pad so I don&amp;#039;t ruin my underwear every day) for two months now. The office told me about a month ago that my spotting is normal and most likely means once I stop spotting I&amp;#039;ll be done with my period for the five years K…</td><td>5</td><td>&quot;30-Jan-17&quot;</td><td>17</td></tr><tr><td>16075</td><td>&quot;Ethinyl estradiol / norethindrone&quot;</td><td>&quot;Birth Control&quot;</td><td>&quot;&quot;I&amp;#039;m 14 years old and I&amp;#039;ve been on it for 4 months and I hate it. I&amp;#039;m on it for regular periods since my blood flows too quickly and it has done nothing. I&amp;#039;ve been on my period for 4 months, light mostly but heavy sometimes. I also went on it for my acne but it did nothing. I gained 4 pounds and now I have stubborn belly fat. I also have huge stretch marks (idk if its related but they showed up when I took it). Also, I have no motivation anymore. Don&amp;#039;t take this please!&quot;&quot;</td><td>3</td><td>&quot;27-May-16&quot;</td><td>4</td></tr><tr><td>223196</td><td>&quot;Estradiol&quot;</td><td>&quot;Postmenopausal Symptoms&quot;</td><td>&quot;&quot;I have had a great experience with the Minivelle patch.&nbsp;&nbsp;I was suffering with many, many, hot flashes a day and night sweats that left me drenched!&nbsp;&nbsp;I am down to a handful of flashes a day and the night sweats are gone!&quot;&quot;</td><td>10</td><td>&quot;15-Jul-13&quot;</td><td>41</td></tr><tr><td>102766</td><td>&quot;Aripiprazole&quot;</td><td>&quot;Major Depressive Disorde&quot;</td><td>&quot;&quot;Weight gain and fatigue.&quot;&quot;</td><td>3</td><td>&quot;29-Jul-14&quot;</td><td>15</td></tr><tr><td>85534</td><td>&quot;Ethinyl estradiol / norgestimate&quot;</td><td>&quot;Birth Control&quot;</td><td>&quot;&quot;This Is An Amazing Birth Control. I&amp;#039;ve Been On This For Five Years And Counting. I Never Got Pregnant, My Menstrual Last About 3-4 Days(Regular Period ) ,No Cramps, Face Is Clear Of Acne, From Time To Time Ive Gotten Moody But Overall I Love It!&nbsp;&nbsp;I&amp;#039;m Looking Forward To Getting Off And Starting A Family.&quot;&quot;</td><td>9</td><td>&quot;17-Feb-15&quot;</td><td>24</td></tr><tr><td>131566</td><td>&quot;Methyl salicylate&quot;</td><td>&quot;Muscle Pain&quot;</td><td>&quot;&quot;The adhesive used for these particular patches works a lot better than the other comparable products on the market by far. As long as you get them on straight and unwrinkled the first time, they will stay on for virtually as long as they last, which also happens to exceed comparable products by far. Couple this with the much less expensive price and you have three reasons why this is simply a superior product to the others. \r\n",
              "\r\n",
              "It should be noted that the one time I almost bought another name b…</td><td>7</td><td>&quot;7-Jun-10&quot;</td><td>36</td></tr></tbody></table></div>"
            ]
          },
          "metadata": {},
          "execution_count": 8
        }
      ]
    },
    {
      "cell_type": "markdown",
      "source": [
        "## Verifying uniqueness of `uniqueID`\n",
        "\n",
        "Unlike the version used in the Hugging Face tutorial,\n",
        "the Kaggle-hosted dataset does have a name for the first column.\n",
        "So here we just verify that each row indeed has a unique ID."
      ],
      "metadata": {
        "id": "9L5di8l7zCaG"
      }
    },
    {
      "cell_type": "code",
      "source": [
        "assert df.get_column(\"uniqueID\").n_unique() == len(df)"
      ],
      "metadata": {
        "id": "QkX1-803dPrT"
      },
      "execution_count": null,
      "outputs": []
    },
    {
      "cell_type": "markdown",
      "source": [
        "## Scanning for invalid `drugName`s\n",
        "\n",
        "We scan for invalid drug names by looking for unusual characters.\n",
        "Fortunately most if not all drug names seem to be valid."
      ],
      "metadata": {
        "id": "_HmfyGD5z3t6"
      }
    },
    {
      "cell_type": "code",
      "source": [
        "(\n",
        "    df.filter(col(\"drugName\").str.contains(r\"[^[:alnum:] '(),./-]\"))\n",
        "    .get_column(\"drugName\")\n",
        "    .value_counts()\n",
        "    .sort(\"count\", descending=True)\n",
        ")"
      ],
      "metadata": {
        "colab": {
          "base_uri": "https://localhost:8080/",
          "height": 631
        },
        "id": "0BbtRlkZWK9X",
        "outputId": "6fe8cfce-3095-4114-c05d-6e95ac22e27a"
      },
      "execution_count": null,
      "outputs": [
        {
          "output_type": "execute_result",
          "data": {
            "text/plain": [
              "shape: (17, 2)\n",
              "┌────────────────────────────────────────────┬───────┐\n",
              "│ drugName                                   ┆ count │\n",
              "│ ---                                        ┆ ---   │\n",
              "│ str                                        ┆ u32   │\n",
              "╞════════════════════════════════════════════╪═══════╡\n",
              "│ Tylenol with Codeine #3                    ┆ 65    │\n",
              "│ Coricidin HBP Cold & Flu                   ┆ 5     │\n",
              "│ Tylenol with Codeine #4                    ┆ 4     │\n",
              "│ Mucinex Fast-Max Severe Congestion & Cough ┆ 2     │\n",
              "│ Dimetapp Children's Cold & Cough           ┆ 2     │\n",
              "│ Aleve-D Sinus & Cold                       ┆ 1     │\n",
              "│ Coricidin HBP Cough & Cold                 ┆ 1     │\n",
              "│ Sudafed PE Pressure + Pain                 ┆ 1     │\n",
              "│ A + D Cracked Skin Relief                  ┆ 1     │\n",
              "│ Norinyl 1+35                               ┆ 1     │\n",
              "│ PanOxyl 10% Acne Foaming Wash              ┆ 1     │\n",
              "│ Hair, Skin & Nails                         ┆ 1     │\n",
              "│ Vicks Dayquil Cold & Flu Relief            ┆ 1     │\n",
              "│ Robitussin Cough + Chest Congestion DM     ┆ 1     │\n",
              "│ Excedrin Back & Body                       ┆ 1     │\n",
              "│ Mucinex Fast-Max Night Time Cold & Flu     ┆ 1     │\n",
              "│ Vitafol-OB+DHA                             ┆ 1     │\n",
              "└────────────────────────────────────────────┴───────┘"
            ],
            "text/html": [
              "<div><style>\n",
              ".dataframe > thead > tr,\n",
              ".dataframe > tbody > tr {\n",
              "  text-align: right;\n",
              "  white-space: pre-wrap;\n",
              "}\n",
              "</style>\n",
              "<small>shape: (17, 2)</small><table border=\"1\" class=\"dataframe\"><thead><tr><th>drugName</th><th>count</th></tr><tr><td>str</td><td>u32</td></tr></thead><tbody><tr><td>&quot;Tylenol with Codeine #3&quot;</td><td>65</td></tr><tr><td>&quot;Coricidin HBP Cold &amp; Flu&quot;</td><td>5</td></tr><tr><td>&quot;Tylenol with Codeine #4&quot;</td><td>4</td></tr><tr><td>&quot;Mucinex Fast-Max Severe Congestion &amp; Cough&quot;</td><td>2</td></tr><tr><td>&quot;Dimetapp Children&#x27;s Cold &amp; Cough&quot;</td><td>2</td></tr><tr><td>&quot;Aleve-D Sinus &amp; Cold&quot;</td><td>1</td></tr><tr><td>&quot;Coricidin HBP Cough &amp; Cold&quot;</td><td>1</td></tr><tr><td>&quot;Sudafed PE Pressure + Pain&quot;</td><td>1</td></tr><tr><td>&quot;A + D Cracked Skin Relief&quot;</td><td>1</td></tr><tr><td>&quot;Norinyl 1+35&quot;</td><td>1</td></tr><tr><td>&quot;PanOxyl 10% Acne Foaming Wash&quot;</td><td>1</td></tr><tr><td>&quot;Hair, Skin &amp; Nails&quot;</td><td>1</td></tr><tr><td>&quot;Vicks Dayquil Cold &amp; Flu Relief&quot;</td><td>1</td></tr><tr><td>&quot;Robitussin Cough + Chest Congestion DM&quot;</td><td>1</td></tr><tr><td>&quot;Excedrin Back &amp; Body&quot;</td><td>1</td></tr><tr><td>&quot;Mucinex Fast-Max Night Time Cold &amp; Flu&quot;</td><td>1</td></tr><tr><td>&quot;Vitafol-OB+DHA&quot;</td><td>1</td></tr></tbody></table></div>"
            ]
          },
          "metadata": {},
          "execution_count": 10
        }
      ]
    },
    {
      "cell_type": "markdown",
      "source": [
        "## Handling capitalization of `drugName`s\n",
        "\n",
        "There are very few lowercase drug names and all of them are valid.\n",
        "We can also confirm that no drug name is cased differently in the dataset.\n",
        "To preserve the original data as much as possible,\n",
        "I title-case the lowercase names instead of lowercasing all drug names."
      ],
      "metadata": {
        "id": "vuoY6ePqcXIc"
      }
    },
    {
      "cell_type": "code",
      "source": [
        "(\n",
        "    df.filter(col(\"drugName\").str.contains(r\"^[^A-Z]\"))\n",
        "    .get_column(\"drugName\")\n",
        "    .value_counts()\n",
        "    .sort(\"count\", descending=True)\n",
        ")"
      ],
      "metadata": {
        "colab": {
          "base_uri": "https://localhost:8080/",
          "height": 192
        },
        "id": "1cAcyYUcKhfn",
        "outputId": "8748cf98-5467-4767-d4ef-19ba0a83d884"
      },
      "execution_count": null,
      "outputs": [
        {
          "output_type": "execute_result",
          "data": {
            "text/plain": [
              "shape: (3, 2)\n",
              "┌───────────────────────┬───────┐\n",
              "│ drugName              ┆ count │\n",
              "│ ---                   ┆ ---   │\n",
              "│ str                   ┆ u32   │\n",
              "╞═══════════════════════╪═══════╡\n",
              "│ ella                  ┆ 51    │\n",
              "│ femhrt                ┆ 3     │\n",
              "│ depo-subQ provera 104 ┆ 1     │\n",
              "└───────────────────────┴───────┘"
            ],
            "text/html": [
              "<div><style>\n",
              ".dataframe > thead > tr,\n",
              ".dataframe > tbody > tr {\n",
              "  text-align: right;\n",
              "  white-space: pre-wrap;\n",
              "}\n",
              "</style>\n",
              "<small>shape: (3, 2)</small><table border=\"1\" class=\"dataframe\"><thead><tr><th>drugName</th><th>count</th></tr><tr><td>str</td><td>u32</td></tr></thead><tbody><tr><td>&quot;ella&quot;</td><td>51</td></tr><tr><td>&quot;femhrt&quot;</td><td>3</td></tr><tr><td>&quot;depo-subQ provera 104&quot;</td><td>1</td></tr></tbody></table></div>"
            ]
          },
          "metadata": {},
          "execution_count": 11
        }
      ]
    },
    {
      "cell_type": "code",
      "source": [
        "assert (\n",
        "    df.get_column(\"drugName\").n_unique()\n",
        "    == df.get_column(\"drugName\").str.to_lowercase().n_unique()\n",
        ")"
      ],
      "metadata": {
        "id": "uIVySY9vTdSH"
      },
      "execution_count": null,
      "outputs": []
    },
    {
      "cell_type": "code",
      "source": [
        "replacements = {\n",
        "    \"ella\": \"Ella\",\n",
        "    \"femhrt\": \"Femhrt\",\n",
        "    \"depo-subQ provera 104\": \"Depo-SubQ Provera 104\"\n",
        "}\n",
        "\n",
        "df = df.with_columns(col(\"drugName\").replace(replacements))"
      ],
      "metadata": {
        "id": "ycf1zz_SKoh_"
      },
      "execution_count": null,
      "outputs": []
    },
    {
      "cell_type": "markdown",
      "source": [
        "## Cleaning invalid `condition`s\n",
        "\n",
        "The search for unusual characters yields a group of rows with invalid `condition`s:\n",
        "\"??`</span>` users found this comment helpful.\" I decide to replace them with nulls."
      ],
      "metadata": {
        "id": "Qbt79iXZwJVV"
      }
    },
    {
      "cell_type": "code",
      "source": [
        "q = df.filter(col(\"condition\").str.contains(r\"[^[:alnum:] '(),./-]\")); len(q)"
      ],
      "metadata": {
        "colab": {
          "base_uri": "https://localhost:8080/"
        },
        "id": "GJ-H8XcMU-Uq",
        "outputId": "0eebda36-7234-40e1-9ff3-f5ea5169490e"
      },
      "execution_count": null,
      "outputs": [
        {
          "output_type": "execute_result",
          "data": {
            "text/plain": [
              "900"
            ]
          },
          "metadata": {},
          "execution_count": 14
        }
      ]
    },
    {
      "cell_type": "code",
      "source": [
        "q.select(pl.exclude(\"review\")).sample(10, seed=SEED)"
      ],
      "metadata": {
        "colab": {
          "base_uri": "https://localhost:8080/",
          "height": 412
        },
        "id": "NwzNQAguVUGw",
        "outputId": "da7bec72-c5dd-4d8c-942d-bd48580a3ce7"
      },
      "execution_count": null,
      "outputs": [
        {
          "output_type": "execute_result",
          "data": {
            "text/plain": [
              "shape: (10, 6)\n",
              "┌──────────┬───────────────────────┬─────────────────────────────────────────────┬────────┬───────────┬─────────────┐\n",
              "│ uniqueID ┆ drugName              ┆ condition                                   ┆ rating ┆ date      ┆ usefulCount │\n",
              "│ ---      ┆ ---                   ┆ ---                                         ┆ ---    ┆ ---       ┆ ---         │\n",
              "│ i64      ┆ str                   ┆ str                                         ┆ i64    ┆ str       ┆ i64         │\n",
              "╞══════════╪═══════════════════════╪═════════════════════════════════════════════╪════════╪═══════════╪═════════════╡\n",
              "│ 81207    ┆ Yaz                   ┆ 0</span> users found this comment helpful.  ┆ 1      ┆ 11-Feb-17 ┆ 0           │\n",
              "│ 126293   ┆ Viibryd               ┆ 15</span> users found this comment helpful. ┆ 5      ┆ 14-Oct-11 ┆ 15          │\n",
              "│ 24826    ┆ Deplin                ┆ 13</span> users found this comment helpful. ┆ 6      ┆ 9-Aug-16  ┆ 13          │\n",
              "│ 67383    ┆ Provera               ┆ 4</span> users found this comment helpful.  ┆ 1      ┆ 27-Mar-16 ┆ 4           │\n",
              "│ 212726   ┆ Phenergan             ┆ 3</span> users found this comment helpful.  ┆ 10     ┆ 3-Jan-09  ┆ 3           │\n",
              "│ 220738   ┆ Loestrin 24 Fe        ┆ 9</span> users found this comment helpful.  ┆ 5      ┆ 13-Aug-10 ┆ 9           │\n",
              "│ 33084    ┆ Seasonique            ┆ 2</span> users found this comment helpful.  ┆ 8      ┆ 29-Jun-10 ┆ 2           │\n",
              "│ 159396   ┆ Estrace Vaginal Cream ┆ 64</span> users found this comment helpful. ┆ 8      ┆ 14-Sep-11 ┆ 64          │\n",
              "│ 209258   ┆ Geodon                ┆ 5</span> users found this comment helpful.  ┆ 6      ┆ 18-Feb-09 ┆ 5           │\n",
              "│ 71470    ┆ Levora                ┆ 2</span> users found this comment helpful.  ┆ 3      ┆ 15-Sep-11 ┆ 2           │\n",
              "└──────────┴───────────────────────┴─────────────────────────────────────────────┴────────┴───────────┴─────────────┘"
            ],
            "text/html": [
              "<div><style>\n",
              ".dataframe > thead > tr,\n",
              ".dataframe > tbody > tr {\n",
              "  text-align: right;\n",
              "  white-space: pre-wrap;\n",
              "}\n",
              "</style>\n",
              "<small>shape: (10, 6)</small><table border=\"1\" class=\"dataframe\"><thead><tr><th>uniqueID</th><th>drugName</th><th>condition</th><th>rating</th><th>date</th><th>usefulCount</th></tr><tr><td>i64</td><td>str</td><td>str</td><td>i64</td><td>str</td><td>i64</td></tr></thead><tbody><tr><td>81207</td><td>&quot;Yaz&quot;</td><td>&quot;0&lt;/span&gt; users found this comment helpful.&quot;</td><td>1</td><td>&quot;11-Feb-17&quot;</td><td>0</td></tr><tr><td>126293</td><td>&quot;Viibryd&quot;</td><td>&quot;15&lt;/span&gt; users found this comment helpful.&quot;</td><td>5</td><td>&quot;14-Oct-11&quot;</td><td>15</td></tr><tr><td>24826</td><td>&quot;Deplin&quot;</td><td>&quot;13&lt;/span&gt; users found this comment helpful.&quot;</td><td>6</td><td>&quot;9-Aug-16&quot;</td><td>13</td></tr><tr><td>67383</td><td>&quot;Provera&quot;</td><td>&quot;4&lt;/span&gt; users found this comment helpful.&quot;</td><td>1</td><td>&quot;27-Mar-16&quot;</td><td>4</td></tr><tr><td>212726</td><td>&quot;Phenergan&quot;</td><td>&quot;3&lt;/span&gt; users found this comment helpful.&quot;</td><td>10</td><td>&quot;3-Jan-09&quot;</td><td>3</td></tr><tr><td>220738</td><td>&quot;Loestrin 24 Fe&quot;</td><td>&quot;9&lt;/span&gt; users found this comment helpful.&quot;</td><td>5</td><td>&quot;13-Aug-10&quot;</td><td>9</td></tr><tr><td>33084</td><td>&quot;Seasonique&quot;</td><td>&quot;2&lt;/span&gt; users found this comment helpful.&quot;</td><td>8</td><td>&quot;29-Jun-10&quot;</td><td>2</td></tr><tr><td>159396</td><td>&quot;Estrace Vaginal Cream&quot;</td><td>&quot;64&lt;/span&gt; users found this comment helpful.&quot;</td><td>8</td><td>&quot;14-Sep-11&quot;</td><td>64</td></tr><tr><td>209258</td><td>&quot;Geodon&quot;</td><td>&quot;5&lt;/span&gt; users found this comment helpful.&quot;</td><td>6</td><td>&quot;18-Feb-09&quot;</td><td>5</td></tr><tr><td>71470</td><td>&quot;Levora&quot;</td><td>&quot;2&lt;/span&gt; users found this comment helpful.&quot;</td><td>3</td><td>&quot;15-Sep-11&quot;</td><td>2</td></tr></tbody></table></div>"
            ]
          },
          "metadata": {},
          "execution_count": 15
        }
      ]
    },
    {
      "cell_type": "code",
      "source": [
        "df = df.with_columns(\n",
        "    pl.when(col(\"condition\").str.contains(\"</span>\", literal=True))\n",
        "    .then(pl.lit(None))\n",
        "    .otherwise(col(\"condition\"))\n",
        "    .alias(\"condition\")\n",
        ")"
      ],
      "metadata": {
        "id": "SFuyKewIU50q"
      },
      "execution_count": null,
      "outputs": []
    },
    {
      "cell_type": "markdown",
      "source": [
        "## Correcting corrupted `condition`s\n",
        "\n",
        "The search for lowercase condition names leads to a few unexpected findings:\n",
        "\n",
        "- Some `condition` fields mistakenly record drug names instead of condition names.\n",
        "- Quite a few condition names lost their prefixes, suffixes, or both.\n",
        "  Indeed, seemingly all leading `F`s and terminating `r`s were cut off.\n",
        "\n",
        "I decide to handle the corrupted entries one by one:\n",
        "Correct those I can recognize and nullify those I cannot."
      ],
      "metadata": {
        "id": "oqYZXQG6ggIJ"
      }
    },
    {
      "cell_type": "code",
      "source": [
        "(\n",
        "    df.filter(col(\"condition\").str.contains(r\"^[^A-Z]\"))\n",
        "    .get_column(\"condition\")\n",
        "    .value_counts()\n",
        "    .sort(\"count\", descending=True)\n",
        ")"
      ],
      "metadata": {
        "colab": {
          "base_uri": "https://localhost:8080/",
          "height": 1000
        },
        "id": "yIXdjonmWbmL",
        "outputId": "cb240f13-2ca5-452b-e7fc-4d2b2d713886"
      },
      "execution_count": null,
      "outputs": [
        {
          "output_type": "execute_result",
          "data": {
            "text/plain": [
              "shape: (37, 2)\n",
              "┌───────────────────────────────────────────────────────┬───────┐\n",
              "│ condition                                             ┆ count │\n",
              "│ ---                                                   ┆ ---   │\n",
              "│ str                                                   ┆ u32   │\n",
              "╞═══════════════════════════════════════════════════════╪═══════╡\n",
              "│ ibromyalgia                                           ┆ 1791  │\n",
              "│ mance Anxiety                                         ┆ 187   │\n",
              "│ moterol)                                              ┆ 79    │\n",
              "│ emale Infertility                                     ┆ 65    │\n",
              "│ atigue                                                ┆ 53    │\n",
              "│ min)                                                  ┆ 45    │\n",
              "│ ge (amlodipine / valsartan)                           ┆ 33    │\n",
              "│ acial Wrinkles                                        ┆ 32    │\n",
              "│ moterol / mometasone)                                 ┆ 29    │\n",
              "│ min / sitagliptin)                                    ┆ 26    │\n",
              "│ zen Shoulde                                           ┆ 14    │\n",
              "│ eve                                                   ┆ 12    │\n",
              "│ mulation) (phenylephrine)                             ┆ 12    │\n",
              "│ min / saxagliptin)                                    ┆ 10    │\n",
              "│ lic Acid Deficiency                                   ┆ 8     │\n",
              "│ von Willebrand's Disease                              ┆ 7     │\n",
              "│ amilial Mediterranean Feve                            ┆ 6     │\n",
              "│ min / pioglitazone)                                   ┆ 5     │\n",
              "│ mis                                                   ┆ 5     │\n",
              "│ ge HCT (amlodipine / hydrochlorothiazide / valsartan) ┆ 4     │\n",
              "│ cal Segmental Glomerulosclerosis                      ┆ 4     │\n",
              "│ ailure to Thrive                                      ┆ 3     │\n",
              "│ amilial Cold Autoinflammatory Syndrome                ┆ 3     │\n",
              "│ actor IX Deficiency                                   ┆ 3     │\n",
              "│ t Pac with Cyclobenzaprine (cyclobenzaprine)          ┆ 2     │\n",
              "│ t Care                                                ┆ 2     │\n",
              "│ min / rosiglitazone)                                  ┆ 2     │\n",
              "│ tic (mycophenolic acid)                               ┆ 2     │\n",
              "│ llicular Lymphoma                                     ┆ 1     │\n",
              "│ ungal Pneumonia                                       ┆ 1     │\n",
              "│ mist (                                                ┆ 1     │\n",
              "│ m Pain Disorde                                        ┆ 1     │\n",
              "│ me                                                    ┆ 1     │\n",
              "│ unctional Gastric Disorde                             ┆ 1     │\n",
              "│ acial Lipoatrophy                                     ┆ 1     │\n",
              "│ ibrocystic Breast Disease                             ┆ 1     │\n",
              "│ ungal Infection Prophylaxis                           ┆ 1     │\n",
              "└───────────────────────────────────────────────────────┴───────┘"
            ],
            "text/html": [
              "<div><style>\n",
              ".dataframe > thead > tr,\n",
              ".dataframe > tbody > tr {\n",
              "  text-align: right;\n",
              "  white-space: pre-wrap;\n",
              "}\n",
              "</style>\n",
              "<small>shape: (37, 2)</small><table border=\"1\" class=\"dataframe\"><thead><tr><th>condition</th><th>count</th></tr><tr><td>str</td><td>u32</td></tr></thead><tbody><tr><td>&quot;ibromyalgia&quot;</td><td>1791</td></tr><tr><td>&quot;mance Anxiety&quot;</td><td>187</td></tr><tr><td>&quot;moterol)&quot;</td><td>79</td></tr><tr><td>&quot;emale Infertility&quot;</td><td>65</td></tr><tr><td>&quot;atigue&quot;</td><td>53</td></tr><tr><td>&quot;min)&quot;</td><td>45</td></tr><tr><td>&quot;ge (amlodipine / valsartan)&quot;</td><td>33</td></tr><tr><td>&quot;acial Wrinkles&quot;</td><td>32</td></tr><tr><td>&quot;moterol / mometasone)&quot;</td><td>29</td></tr><tr><td>&quot;min / sitagliptin)&quot;</td><td>26</td></tr><tr><td>&quot;zen Shoulde&quot;</td><td>14</td></tr><tr><td>&quot;eve&quot;</td><td>12</td></tr><tr><td>&quot;mulation) (phenylephrine)&quot;</td><td>12</td></tr><tr><td>&quot;min / saxagliptin)&quot;</td><td>10</td></tr><tr><td>&quot;lic Acid Deficiency&quot;</td><td>8</td></tr><tr><td>&quot;von Willebrand&#x27;s Disease&quot;</td><td>7</td></tr><tr><td>&quot;amilial Mediterranean Feve&quot;</td><td>6</td></tr><tr><td>&quot;min / pioglitazone)&quot;</td><td>5</td></tr><tr><td>&quot;mis&quot;</td><td>5</td></tr><tr><td>&quot;ge HCT (amlodipine / hydrochlorothiazide / valsartan)&quot;</td><td>4</td></tr><tr><td>&quot;cal Segmental Glomerulosclerosis&quot;</td><td>4</td></tr><tr><td>&quot;ailure to Thrive&quot;</td><td>3</td></tr><tr><td>&quot;amilial Cold Autoinflammatory Syndrome&quot;</td><td>3</td></tr><tr><td>&quot;actor IX Deficiency&quot;</td><td>3</td></tr><tr><td>&quot;t Pac with Cyclobenzaprine (cyclobenzaprine)&quot;</td><td>2</td></tr><tr><td>&quot;t Care&quot;</td><td>2</td></tr><tr><td>&quot;min / rosiglitazone)&quot;</td><td>2</td></tr><tr><td>&quot;tic (mycophenolic acid)&quot;</td><td>2</td></tr><tr><td>&quot;llicular Lymphoma&quot;</td><td>1</td></tr><tr><td>&quot;ungal Pneumonia&quot;</td><td>1</td></tr><tr><td>&quot;mist (&quot;</td><td>1</td></tr><tr><td>&quot;m Pain Disorde&quot;</td><td>1</td></tr><tr><td>&quot;me&quot;</td><td>1</td></tr><tr><td>&quot;unctional Gastric Disorde&quot;</td><td>1</td></tr><tr><td>&quot;acial Lipoatrophy&quot;</td><td>1</td></tr><tr><td>&quot;ibrocystic Breast Disease&quot;</td><td>1</td></tr><tr><td>&quot;ungal Infection Prophylaxis&quot;</td><td>1</td></tr></tbody></table></div>"
            ]
          },
          "metadata": {},
          "execution_count": 17
        }
      ]
    },
    {
      "cell_type": "code",
      "source": [
        "replacements = {\n",
        "    \"ibromyalgia\": \"Fibromyalgia\",\n",
        "    \"mance Anxiety\": \"Performance Anxiety\",\n",
        "    \"emale Infertility\": \"Female Infertility\",\n",
        "    \"atigue\": \"Fatigue\",\n",
        "    \"acial Wrinkles\": \"Facial Wrinkles\",\n",
        "    \"zen Shoulde\": \"Frozen Shoulder\",\n",
        "    \"eve\": \"Fever\",\n",
        "    \"lic Acid Deficiency\": \"Folic Acid Deficiency\",\n",
        "    \"von Willebrand's Disease\": \"Von Willebrand's Disease\",\n",
        "    \"amilial Mediterranean Feve\": \"Familial Mediterranean Fever\",\n",
        "    \"cal Segmental Glomerulosclerosis\": \"Focal Segmental Glomerulosclerosis\",\n",
        "    \"ailure to Thrive\": \"Failure to Thrive\",\n",
        "    \"amilial Cold Autoinflammatory Syndrome\": \"Familial Cold Autoinflammatory Syndrome\",\n",
        "    \"actor IX Deficiency\": \"Factor IX Deficiency\",\n",
        "    \"acial Lipoatrophy\": \"Facial Lipoatrophy\",\n",
        "    \"ungal Pneumonia\": \"Fungal Pneumonia\",\n",
        "    \"llicular Lymphoma\": \"Follicular Lymphoma\",\n",
        "    \"unctional Gastric Disorde\": \"Functional Gastric Disorder\",\n",
        "    \"ungal Infection Prophylaxis\": \"Fungal Infection Prophylaxis\",\n",
        "    \"ibrocystic Breast Disease\": \"Fibrocystic Breast Disease\",\n",
        "    \"llicle Stimulation\": \"Follicle Stimulation\",\n",
        "\n",
        "    \"moterol)\": None,\n",
        "    \"min)\": None,\n",
        "    \"ge (amlodipine / valsartan)\": None,\n",
        "    \"moterol / mometasone)\": None,\n",
        "    \"min / sitagliptin)\": None,\n",
        "    \"mulation) (phenylephrine)\": None,\n",
        "    \"min / saxagliptin)\": None,\n",
        "    \"mis\": None,\n",
        "    \"min / pioglitazone)\": None,\n",
        "    \"ge HCT (amlodipine / hydrochlorothiazide / valsartan)\": None,\n",
        "    \"min / rosiglitazone)\": None,\n",
        "    \"tic (mycophenolic acid)\": None,\n",
        "    \"t Care\": None,\n",
        "    \"t Pac with Cyclobenzaprine (cyclobenzaprine)\": None,\n",
        "    \"me\": None,\n",
        "    \"mist (\": None,\n",
        "    \"m Pain Disorde\": None,\n",
        "}\n",
        "\n",
        "df = df.with_columns(col(\"condition\").replace(replacements))"
      ],
      "metadata": {
        "id": "hMtmGXpPhKHL"
      },
      "execution_count": null,
      "outputs": []
    },
    {
      "cell_type": "markdown",
      "source": [
        "Identifying all conditions losing their terminating `r`s would require nontrivial\n",
        "domain knowledge and effort.\n",
        "I can only come up with and correct \"disorde\" and \"(f)eve\",\n",
        "which should be \"disorder\" and \"fever\", respectively."
      ],
      "metadata": {
        "id": "GwfFd4cqkJPD"
      }
    },
    {
      "cell_type": "code",
      "source": [
        "(\n",
        "    df.filter(col(\"condition\").str.ends_with(\"eve\"))\n",
        "    .get_column(\"condition\")\n",
        "    .value_counts()\n",
        ")"
      ],
      "metadata": {
        "colab": {
          "base_uri": "https://localhost:8080/",
          "height": 192
        },
        "id": "tE7lZFjv6PNf",
        "outputId": "c995e150-8761-4625-c48e-a52c12009e3e"
      },
      "execution_count": null,
      "outputs": [
        {
          "output_type": "execute_result",
          "data": {
            "text/plain": [
              "shape: (3, 2)\n",
              "┌──────────────┬───────┐\n",
              "│ condition    ┆ count │\n",
              "│ ---          ┆ ---   │\n",
              "│ str          ┆ u32   │\n",
              "╞══════════════╪═══════╡\n",
              "│ Q Feve       ┆ 1     │\n",
              "│ Typhoid Feve ┆ 2     │\n",
              "│ Pain/Feve    ┆ 13    │\n",
              "└──────────────┴───────┘"
            ],
            "text/html": [
              "<div><style>\n",
              ".dataframe > thead > tr,\n",
              ".dataframe > tbody > tr {\n",
              "  text-align: right;\n",
              "  white-space: pre-wrap;\n",
              "}\n",
              "</style>\n",
              "<small>shape: (3, 2)</small><table border=\"1\" class=\"dataframe\"><thead><tr><th>condition</th><th>count</th></tr><tr><td>str</td><td>u32</td></tr></thead><tbody><tr><td>&quot;Q Feve&quot;</td><td>1</td></tr><tr><td>&quot;Typhoid Feve&quot;</td><td>2</td></tr><tr><td>&quot;Pain/Feve&quot;</td><td>13</td></tr></tbody></table></div>"
            ]
          },
          "metadata": {},
          "execution_count": 19
        }
      ]
    },
    {
      "cell_type": "code",
      "source": [
        "(\n",
        "    df.filter(col(\"condition\").str.ends_with(\"rde\"))\n",
        "    .get_column(\"condition\")\n",
        "    .value_counts()\n",
        ")"
      ],
      "metadata": {
        "colab": {
          "base_uri": "https://localhost:8080/",
          "height": 945
        },
        "id": "D6FLzGkEWjz_",
        "outputId": "c953dade-8d25-4dd1-d358-090c311a7d98"
      },
      "execution_count": null,
      "outputs": [
        {
          "output_type": "execute_result",
          "data": {
            "text/plain": [
              "shape: (27, 2)\n",
              "┌──────────────────────────────────┬───────┐\n",
              "│ condition                        ┆ count │\n",
              "│ ---                              ┆ ---   │\n",
              "│ str                              ┆ u32   │\n",
              "╞══════════════════════════════════╪═══════╡\n",
              "│ Binge Eating Disorde             ┆ 72    │\n",
              "│ Temporomandibular Joint Disorde  ┆ 30    │\n",
              "│ Bleeding Disorde                 ┆ 7     │\n",
              "│ Social Anxiety Disorde           ┆ 389   │\n",
              "│ Borderline Personality Disorde   ┆ 151   │\n",
              "│ Hypoactive Sexual Desire Disorde ┆ 7     │\n",
              "│ Shift Work Sleep Disorde         ┆ 60    │\n",
              "│ Post Traumatic Stress Disorde    ┆ 314   │\n",
              "│ Somatoform Pain Disorde          ┆ 1     │\n",
              "│ Dissociative Identity Disorde    ┆ 1     │\n",
              "│ Bipolar Disorde                  ┆ 4224  │\n",
              "│ Tic Disorde                      ┆ 2     │\n",
              "│ Persistent Depressive Disorde    ┆ 12    │\n",
              "│ Major Depressive Disorde         ┆ 1607  │\n",
              "│ Schizoaffective Disorde          ┆ 396   │\n",
              "│ Paranoid Disorde                 ┆ 38    │\n",
              "│ Cyclothymic Disorde              ┆ 5     │\n",
              "│ Auditory Processing Disorde      ┆ 5     │\n",
              "│ Seasonal Affective Disorde       ┆ 16    │\n",
              "│ Periodic Limb Movement Disorde   ┆ 43    │\n",
              "│ Panic Disorde                    ┆ 1463  │\n",
              "│ Intermittent Explosive Disorde   ┆ 2     │\n",
              "│ Generalized Anxiety Disorde      ┆ 1164  │\n",
              "│ Oppositional Defiant Disorde     ┆ 1     │\n",
              "│ Obsessive Compulsive Disorde     ┆ 579   │\n",
              "│ Body Dysmorphic Disorde          ┆ 9     │\n",
              "│ Premenstrual Dysphoric Disorde   ┆ 298   │\n",
              "└──────────────────────────────────┴───────┘"
            ],
            "text/html": [
              "<div><style>\n",
              ".dataframe > thead > tr,\n",
              ".dataframe > tbody > tr {\n",
              "  text-align: right;\n",
              "  white-space: pre-wrap;\n",
              "}\n",
              "</style>\n",
              "<small>shape: (27, 2)</small><table border=\"1\" class=\"dataframe\"><thead><tr><th>condition</th><th>count</th></tr><tr><td>str</td><td>u32</td></tr></thead><tbody><tr><td>&quot;Binge Eating Disorde&quot;</td><td>72</td></tr><tr><td>&quot;Temporomandibular Joint Disorde&quot;</td><td>30</td></tr><tr><td>&quot;Bleeding Disorde&quot;</td><td>7</td></tr><tr><td>&quot;Social Anxiety Disorde&quot;</td><td>389</td></tr><tr><td>&quot;Borderline Personality Disorde&quot;</td><td>151</td></tr><tr><td>&quot;Hypoactive Sexual Desire Disorde&quot;</td><td>7</td></tr><tr><td>&quot;Shift Work Sleep Disorde&quot;</td><td>60</td></tr><tr><td>&quot;Post Traumatic Stress Disorde&quot;</td><td>314</td></tr><tr><td>&quot;Somatoform Pain Disorde&quot;</td><td>1</td></tr><tr><td>&quot;Dissociative Identity Disorde&quot;</td><td>1</td></tr><tr><td>&quot;Bipolar Disorde&quot;</td><td>4224</td></tr><tr><td>&quot;Tic Disorde&quot;</td><td>2</td></tr><tr><td>&quot;Persistent Depressive Disorde&quot;</td><td>12</td></tr><tr><td>&quot;Major Depressive Disorde&quot;</td><td>1607</td></tr><tr><td>&quot;Schizoaffective Disorde&quot;</td><td>396</td></tr><tr><td>&quot;Paranoid Disorde&quot;</td><td>38</td></tr><tr><td>&quot;Cyclothymic Disorde&quot;</td><td>5</td></tr><tr><td>&quot;Auditory Processing Disorde&quot;</td><td>5</td></tr><tr><td>&quot;Seasonal Affective Disorde&quot;</td><td>16</td></tr><tr><td>&quot;Periodic Limb Movement Disorde&quot;</td><td>43</td></tr><tr><td>&quot;Panic Disorde&quot;</td><td>1463</td></tr><tr><td>&quot;Intermittent Explosive Disorde&quot;</td><td>2</td></tr><tr><td>&quot;Generalized Anxiety Disorde&quot;</td><td>1164</td></tr><tr><td>&quot;Oppositional Defiant Disorde&quot;</td><td>1</td></tr><tr><td>&quot;Obsessive Compulsive Disorde&quot;</td><td>579</td></tr><tr><td>&quot;Body Dysmorphic Disorde&quot;</td><td>9</td></tr><tr><td>&quot;Premenstrual Dysphoric Disorde&quot;</td><td>298</td></tr></tbody></table></div>"
            ]
          },
          "metadata": {},
          "execution_count": 20
        }
      ]
    },
    {
      "cell_type": "code",
      "source": [
        "df = df.with_columns(\n",
        "    col(\"condition\").str.replace(r\"^(.+(?:rd|ev)e)$\", \"${1}r\").alias(\"condition\")\n",
        ")"
      ],
      "metadata": {
        "id": "KhnucLjdsJr1"
      },
      "execution_count": null,
      "outputs": []
    },
    {
      "cell_type": "markdown",
      "source": [
        "## Decoding HTML entities in `review`s\n",
        "\n",
        "It turns out that many HTML entities besides `&#039;` are present in the `review` column\n",
        "and using `html.unescape()` as recommended by the Hugging Face tutorial\n",
        "is probably more robust than replacing them individually. So we do just that."
      ],
      "metadata": {
        "id": "E1jR7IqChG4J"
      }
    },
    {
      "cell_type": "code",
      "source": [
        "q = (\n",
        "    df.select(col(\"review\").str.extract_all(r\"&#?[[:alnum:]]+;\"))\n",
        "    .explode(\"review\")\n",
        "    .get_column(\"review\")\n",
        "    .value_counts()\n",
        "    .sort(\"count\", descending=True)\n",
        "); len(q)"
      ],
      "metadata": {
        "colab": {
          "base_uri": "https://localhost:8080/"
        },
        "id": "IJ2iFK06h_mk",
        "outputId": "4c6837db-46bc-4286-d3f5-9d01bd2f0b9e"
      },
      "execution_count": null,
      "outputs": [
        {
          "output_type": "execute_result",
          "data": {
            "text/plain": [
              "45"
            ]
          },
          "metadata": {},
          "execution_count": 22
        }
      ]
    },
    {
      "cell_type": "code",
      "source": [
        "q.head(10)"
      ],
      "metadata": {
        "colab": {
          "base_uri": "https://localhost:8080/",
          "height": 412
        },
        "id": "erjwmOPAiNE6",
        "outputId": "6784ed22-a664-4b16-becd-132384d4f1fc"
      },
      "execution_count": null,
      "outputs": [
        {
          "output_type": "execute_result",
          "data": {
            "text/plain": [
              "shape: (10, 2)\n",
              "┌──────────┬────────┐\n",
              "│ review   ┆ count  │\n",
              "│ ---      ┆ ---    │\n",
              "│ str      ┆ u32    │\n",
              "╞══════════╪════════╡\n",
              "│ &#039;   ┆ 262415 │\n",
              "│ null     ┆ 55984  │\n",
              "│ &quot;   ┆ 21262  │\n",
              "│ &amp;    ┆ 13047  │\n",
              "│ &rsquo;  ┆ 3029   │\n",
              "│ &gt;     ┆ 162    │\n",
              "│ &rdquo;  ┆ 117    │\n",
              "│ &ldquo;  ┆ 116    │\n",
              "│ &eacute; ┆ 111    │\n",
              "│ &lt;     ┆ 108    │\n",
              "└──────────┴────────┘"
            ],
            "text/html": [
              "<div><style>\n",
              ".dataframe > thead > tr,\n",
              ".dataframe > tbody > tr {\n",
              "  text-align: right;\n",
              "  white-space: pre-wrap;\n",
              "}\n",
              "</style>\n",
              "<small>shape: (10, 2)</small><table border=\"1\" class=\"dataframe\"><thead><tr><th>review</th><th>count</th></tr><tr><td>str</td><td>u32</td></tr></thead><tbody><tr><td>&quot;&amp;#039;&quot;</td><td>262415</td></tr><tr><td>null</td><td>55984</td></tr><tr><td>&quot;&amp;quot;&quot;</td><td>21262</td></tr><tr><td>&quot;&amp;amp;&quot;</td><td>13047</td></tr><tr><td>&quot;&amp;rsquo;&quot;</td><td>3029</td></tr><tr><td>&quot;&amp;gt;&quot;</td><td>162</td></tr><tr><td>&quot;&amp;rdquo;&quot;</td><td>117</td></tr><tr><td>&quot;&amp;ldquo;&quot;</td><td>116</td></tr><tr><td>&quot;&amp;eacute;&quot;</td><td>111</td></tr><tr><td>&quot;&amp;lt;&quot;</td><td>108</td></tr></tbody></table></div>"
            ]
          },
          "metadata": {},
          "execution_count": 23
        }
      ]
    },
    {
      "cell_type": "code",
      "source": [
        "import html\n",
        "\n",
        "df = df.with_columns(col(\"review\").map_elements(html.unescape, return_dtype=pl.String))"
      ],
      "metadata": {
        "id": "QIooQpGaj8hy"
      },
      "execution_count": null,
      "outputs": []
    },
    {
      "cell_type": "markdown",
      "source": [
        "## Simplifying newlines in `review`s\n",
        "\n",
        "Another issue of the `review`s pointed out by the Hugging Face tutorial is\n",
        "the presence of many different kinds of newline characters.\n",
        "I decide to replace all consecutive newline characters with one `\\n`."
      ],
      "metadata": {
        "id": "WBzcYPNEnPE0"
      }
    },
    {
      "cell_type": "code",
      "source": [
        "df.filter(col(\"uniqueID\") == 121260).item(0, \"review\")"
      ],
      "metadata": {
        "colab": {
          "base_uri": "https://localhost:8080/",
          "height": 53
        },
        "id": "5T7X50EVk8TB",
        "outputId": "6d07d5c1-bccd-4013-bb60-08ca230f1b79"
      },
      "execution_count": null,
      "outputs": [
        {
          "output_type": "execute_result",
          "data": {
            "text/plain": [
              "'\"More than Depression I take Effexor for Anxiety and it works well.  The only problem\\r\\r\\noccurs when I forget to take it.  Within in hours I experience withdrawal symptoms\\r\\r\\nsuch as light headiness and an occasional brief buzzing in my head.\"'"
            ],
            "application/vnd.google.colaboratory.intrinsic+json": {
              "type": "string"
            }
          },
          "metadata": {},
          "execution_count": 25
        }
      ]
    },
    {
      "cell_type": "code",
      "source": [
        "df = df.with_columns(col(\"review\").str.replace_all(r\"[\\r\\n]+\", \"\\n\"))"
      ],
      "metadata": {
        "id": "wAclXOcytdH8"
      },
      "execution_count": null,
      "outputs": []
    },
    {
      "cell_type": "code",
      "source": [
        "df.filter(col(\"uniqueID\") == 121260).item(0, \"review\")"
      ],
      "metadata": {
        "colab": {
          "base_uri": "https://localhost:8080/",
          "height": 53
        },
        "id": "ng9eVlMEoVK4",
        "outputId": "e45ae898-d225-493b-e9b3-ce93a1466066"
      },
      "execution_count": null,
      "outputs": [
        {
          "output_type": "execute_result",
          "data": {
            "text/plain": [
              "'\"More than Depression I take Effexor for Anxiety and it works well.  The only problem\\noccurs when I forget to take it.  Within in hours I experience withdrawal symptoms\\nsuch as light headiness and an occasional brief buzzing in my head.\"'"
            ],
            "application/vnd.google.colaboratory.intrinsic+json": {
              "type": "string"
            }
          },
          "metadata": {},
          "execution_count": 27
        }
      ]
    },
    {
      "cell_type": "markdown",
      "source": [
        "## Reformatting `date`\n",
        "\n",
        "Finally, I reformat the `dates` into \"yyyy-mm-dd\", which is sortable as string."
      ],
      "metadata": {
        "id": "nTSqKYAPp6NZ"
      }
    },
    {
      "cell_type": "code",
      "source": [
        "df = df.with_columns(col(\"date\").str.to_date(\"%-d-%b-%y\"))"
      ],
      "metadata": {
        "id": "MOWwqq8Jr21i"
      },
      "execution_count": null,
      "outputs": []
    },
    {
      "cell_type": "markdown",
      "source": [
        "## Saving and sharing"
      ],
      "metadata": {
        "id": "EaljpzNi40b9"
      }
    },
    {
      "cell_type": "markdown",
      "source": [
        "The test set is processed the same way and the procedure is omitted for brevity."
      ],
      "metadata": {
        "id": "-1kIw4RQ9lfx"
      }
    },
    {
      "cell_type": "code",
      "source": [
        "if DATA_DIR:\n",
        "    import os\n",
        "\n",
        "    os.makedirs(DATA_DIR, exist_ok=True)\n",
        "    df.write_csv(f\"{DATA_DIR}/train.tsv\", separator=\"\\t\")\n",
        "\n",
        "if REPO_ID and SECRET:\n",
        "    !uv pip install --system -q datasets\n",
        "\n",
        "    from datasets import load_dataset\n",
        "    from google.colab import userdata\n",
        "\n",
        "    dataset = load_dataset(\n",
        "        \"csv\",\n",
        "        data_files=dict(train=f\"{DATA_DIR}/train.tsv\", test=f\"{DATA_DIR}/test.tsv\"),\n",
        "        delimiter=\"\\t\",\n",
        "    )\n",
        "\n",
        "    dataset.push_to_hub(REPO_ID, token=userdata.get(SECRET))"
      ],
      "metadata": {
        "id": "JnYkWTj1-ZrO",
        "colab": {
          "base_uri": "https://localhost:8080/",
          "height": 145,
          "referenced_widgets": [
            "9f2a0e813ea44ad78f91b077390c1d9b",
            "ac26e65a03ac4037bdda220893297984",
            "2c85d78e3dad49f08eca9c032a068428",
            "4cf3a3ecb0354faa96bf4713f332b206",
            "b93044e1657c4467bef0fe0c2d3b8100",
            "596a1d0d499f4464a7d03d242b763d7e",
            "3fc576ee38ce43eaa5b8948f8438899c",
            "6fe35e5f42c04de29f51f7dd42f31ffa",
            "66f03c027a364070857b9af9c7bd8ed4",
            "8a337a2c91ba4cd59a117666323a5a94",
            "1bca2ee31ac04825905ad3d5679beceb",
            "b112cb483e7f43c282ea995b1831f045",
            "fed658bac4f649dcad8551c9ac27e4ac",
            "c2be2904c85247a1ab45df8c1ce3ba9f",
            "2b3d528533ad42569beb4ddb84c742f8",
            "d10e2352ff424735a9c4cefee587d2bb",
            "b0b5dfb359ea44f3952ba38c1bdfd1d3",
            "f7c2d9233ff947bbad0b34a698ecd1d2",
            "463b6e88483e4c71a2e1cdd70ee74640",
            "13ff406d8e2c45a3b1817b955be30d19",
            "5a889a224747416da950564414ba2786",
            "7b227c4c62a34b97a6bc057e688e9a69",
            "27da9c39a1ef4b579976b76007a9bf5f",
            "ac1fd6bbaa164bbe91225c45421ac59e",
            "cd061ff6bcf042ebb4d137a4637e2211",
            "ec1dc501ce744a31be32b1a57b2c6c9b",
            "a6464e572aca4fefbec3c25ec51f65a5",
            "64fb75afe5ef4123ba9ef59086f113e5",
            "74ce8185a3a0408f98d7320bcdb29e7e",
            "9b4c0f012de54c0cb9faa76500a2f9f5",
            "65b1fa1bfce34c0082853c0166602d48",
            "31ec22b156384005bb0ef49f7a890a2d",
            "ec3375a61ce74fe1826d8609b20d710f",
            "d92eae520b97491ea2de9ce476573ffd",
            "d85a99ecf4924ba78970fdb8fd450ea7",
            "ca66e83806b04f8897438ab507bdaf6e",
            "1cd3fbb10db74810bd7e74c334e3a1c3",
            "fb80c45eef6d4774902c5a6f978c354c",
            "d1c2da79ef324cf2a62e2b5a0c2151c9",
            "e5d95275145f4e4195cf115cb4eea675",
            "da1ac05df991429d861383a0cdeb1268",
            "fc1a1f8b64fb4651bf3296d8432d2bbd",
            "aa2f7371eadf43b2add08205a0ef2841",
            "87e62722a49d4080ab0045ec1353313f"
          ]
        },
        "outputId": "a6edcc9d-f609-4665-d2a1-82a30de4275d"
      },
      "execution_count": null,
      "outputs": [
        {
          "output_type": "display_data",
          "data": {
            "text/plain": [
              "Uploading the dataset shards:   0%|          | 0/1 [00:00<?, ?it/s]"
            ],
            "application/vnd.jupyter.widget-view+json": {
              "version_major": 2,
              "version_minor": 0,
              "model_id": "9f2a0e813ea44ad78f91b077390c1d9b"
            }
          },
          "metadata": {}
        },
        {
          "output_type": "display_data",
          "data": {
            "text/plain": [
              "Creating parquet from Arrow format:   0%|          | 0/162 [00:00<?, ?ba/s]"
            ],
            "application/vnd.jupyter.widget-view+json": {
              "version_major": 2,
              "version_minor": 0,
              "model_id": "b112cb483e7f43c282ea995b1831f045"
            }
          },
          "metadata": {}
        },
        {
          "output_type": "display_data",
          "data": {
            "text/plain": [
              "Uploading the dataset shards:   0%|          | 0/1 [00:00<?, ?it/s]"
            ],
            "application/vnd.jupyter.widget-view+json": {
              "version_major": 2,
              "version_minor": 0,
              "model_id": "27da9c39a1ef4b579976b76007a9bf5f"
            }
          },
          "metadata": {}
        },
        {
          "output_type": "display_data",
          "data": {
            "text/plain": [
              "Creating parquet from Arrow format:   0%|          | 0/54 [00:00<?, ?ba/s]"
            ],
            "application/vnd.jupyter.widget-view+json": {
              "version_major": 2,
              "version_minor": 0,
              "model_id": "d92eae520b97491ea2de9ce476573ffd"
            }
          },
          "metadata": {}
        }
      ]
    },
    {
      "cell_type": "markdown",
      "source": [
        "[1]: https://pola.rs/\n",
        "[2]: https://huggingface.co/learn/nlp-course/chapter5/3\n",
        "[3]: https://www.kaggle.com/datasets/jessicali9530/kuc-hackathon-winter-2018\n",
        "[4]: https://huggingface.co/datasets/dd-n-kk/uci-drug-review-cleaned"
      ],
      "metadata": {
        "id": "se2a9EkWMNp0"
      }
    }
  ],
  "metadata": {
    "colab": {
      "provenance": []
    },
    "kernelspec": {
      "display_name": "Python 3",
      "name": "python3"
    },
    "language_info": {
      "name": "python"
    },
    "widgets": {
      "application/vnd.jupyter.widget-state+json": {
        "9f2a0e813ea44ad78f91b077390c1d9b": {
          "model_module": "@jupyter-widgets/controls",
          "model_name": "HBoxModel",
          "model_module_version": "1.5.0",
          "state": {
            "_dom_classes": [],
            "_model_module": "@jupyter-widgets/controls",
            "_model_module_version": "1.5.0",
            "_model_name": "HBoxModel",
            "_view_count": null,
            "_view_module": "@jupyter-widgets/controls",
            "_view_module_version": "1.5.0",
            "_view_name": "HBoxView",
            "box_style": "",
            "children": [
              "IPY_MODEL_ac26e65a03ac4037bdda220893297984",
              "IPY_MODEL_2c85d78e3dad49f08eca9c032a068428",
              "IPY_MODEL_4cf3a3ecb0354faa96bf4713f332b206"
            ],
            "layout": "IPY_MODEL_b93044e1657c4467bef0fe0c2d3b8100"
          }
        },
        "ac26e65a03ac4037bdda220893297984": {
          "model_module": "@jupyter-widgets/controls",
          "model_name": "HTMLModel",
          "model_module_version": "1.5.0",
          "state": {
            "_dom_classes": [],
            "_model_module": "@jupyter-widgets/controls",
            "_model_module_version": "1.5.0",
            "_model_name": "HTMLModel",
            "_view_count": null,
            "_view_module": "@jupyter-widgets/controls",
            "_view_module_version": "1.5.0",
            "_view_name": "HTMLView",
            "description": "",
            "description_tooltip": null,
            "layout": "IPY_MODEL_596a1d0d499f4464a7d03d242b763d7e",
            "placeholder": "​",
            "style": "IPY_MODEL_3fc576ee38ce43eaa5b8948f8438899c",
            "value": "Uploading the dataset shards: 100%"
          }
        },
        "2c85d78e3dad49f08eca9c032a068428": {
          "model_module": "@jupyter-widgets/controls",
          "model_name": "FloatProgressModel",
          "model_module_version": "1.5.0",
          "state": {
            "_dom_classes": [],
            "_model_module": "@jupyter-widgets/controls",
            "_model_module_version": "1.5.0",
            "_model_name": "FloatProgressModel",
            "_view_count": null,
            "_view_module": "@jupyter-widgets/controls",
            "_view_module_version": "1.5.0",
            "_view_name": "ProgressView",
            "bar_style": "success",
            "description": "",
            "description_tooltip": null,
            "layout": "IPY_MODEL_6fe35e5f42c04de29f51f7dd42f31ffa",
            "max": 1,
            "min": 0,
            "orientation": "horizontal",
            "style": "IPY_MODEL_66f03c027a364070857b9af9c7bd8ed4",
            "value": 1
          }
        },
        "4cf3a3ecb0354faa96bf4713f332b206": {
          "model_module": "@jupyter-widgets/controls",
          "model_name": "HTMLModel",
          "model_module_version": "1.5.0",
          "state": {
            "_dom_classes": [],
            "_model_module": "@jupyter-widgets/controls",
            "_model_module_version": "1.5.0",
            "_model_name": "HTMLModel",
            "_view_count": null,
            "_view_module": "@jupyter-widgets/controls",
            "_view_module_version": "1.5.0",
            "_view_name": "HTMLView",
            "description": "",
            "description_tooltip": null,
            "layout": "IPY_MODEL_8a337a2c91ba4cd59a117666323a5a94",
            "placeholder": "​",
            "style": "IPY_MODEL_1bca2ee31ac04825905ad3d5679beceb",
            "value": " 1/1 [00:04&lt;00:00,  4.28s/it]"
          }
        },
        "b93044e1657c4467bef0fe0c2d3b8100": {
          "model_module": "@jupyter-widgets/base",
          "model_name": "LayoutModel",
          "model_module_version": "1.2.0",
          "state": {
            "_model_module": "@jupyter-widgets/base",
            "_model_module_version": "1.2.0",
            "_model_name": "LayoutModel",
            "_view_count": null,
            "_view_module": "@jupyter-widgets/base",
            "_view_module_version": "1.2.0",
            "_view_name": "LayoutView",
            "align_content": null,
            "align_items": null,
            "align_self": null,
            "border": null,
            "bottom": null,
            "display": null,
            "flex": null,
            "flex_flow": null,
            "grid_area": null,
            "grid_auto_columns": null,
            "grid_auto_flow": null,
            "grid_auto_rows": null,
            "grid_column": null,
            "grid_gap": null,
            "grid_row": null,
            "grid_template_areas": null,
            "grid_template_columns": null,
            "grid_template_rows": null,
            "height": null,
            "justify_content": null,
            "justify_items": null,
            "left": null,
            "margin": null,
            "max_height": null,
            "max_width": null,
            "min_height": null,
            "min_width": null,
            "object_fit": null,
            "object_position": null,
            "order": null,
            "overflow": null,
            "overflow_x": null,
            "overflow_y": null,
            "padding": null,
            "right": null,
            "top": null,
            "visibility": null,
            "width": null
          }
        },
        "596a1d0d499f4464a7d03d242b763d7e": {
          "model_module": "@jupyter-widgets/base",
          "model_name": "LayoutModel",
          "model_module_version": "1.2.0",
          "state": {
            "_model_module": "@jupyter-widgets/base",
            "_model_module_version": "1.2.0",
            "_model_name": "LayoutModel",
            "_view_count": null,
            "_view_module": "@jupyter-widgets/base",
            "_view_module_version": "1.2.0",
            "_view_name": "LayoutView",
            "align_content": null,
            "align_items": null,
            "align_self": null,
            "border": null,
            "bottom": null,
            "display": null,
            "flex": null,
            "flex_flow": null,
            "grid_area": null,
            "grid_auto_columns": null,
            "grid_auto_flow": null,
            "grid_auto_rows": null,
            "grid_column": null,
            "grid_gap": null,
            "grid_row": null,
            "grid_template_areas": null,
            "grid_template_columns": null,
            "grid_template_rows": null,
            "height": null,
            "justify_content": null,
            "justify_items": null,
            "left": null,
            "margin": null,
            "max_height": null,
            "max_width": null,
            "min_height": null,
            "min_width": null,
            "object_fit": null,
            "object_position": null,
            "order": null,
            "overflow": null,
            "overflow_x": null,
            "overflow_y": null,
            "padding": null,
            "right": null,
            "top": null,
            "visibility": null,
            "width": null
          }
        },
        "3fc576ee38ce43eaa5b8948f8438899c": {
          "model_module": "@jupyter-widgets/controls",
          "model_name": "DescriptionStyleModel",
          "model_module_version": "1.5.0",
          "state": {
            "_model_module": "@jupyter-widgets/controls",
            "_model_module_version": "1.5.0",
            "_model_name": "DescriptionStyleModel",
            "_view_count": null,
            "_view_module": "@jupyter-widgets/base",
            "_view_module_version": "1.2.0",
            "_view_name": "StyleView",
            "description_width": ""
          }
        },
        "6fe35e5f42c04de29f51f7dd42f31ffa": {
          "model_module": "@jupyter-widgets/base",
          "model_name": "LayoutModel",
          "model_module_version": "1.2.0",
          "state": {
            "_model_module": "@jupyter-widgets/base",
            "_model_module_version": "1.2.0",
            "_model_name": "LayoutModel",
            "_view_count": null,
            "_view_module": "@jupyter-widgets/base",
            "_view_module_version": "1.2.0",
            "_view_name": "LayoutView",
            "align_content": null,
            "align_items": null,
            "align_self": null,
            "border": null,
            "bottom": null,
            "display": null,
            "flex": null,
            "flex_flow": null,
            "grid_area": null,
            "grid_auto_columns": null,
            "grid_auto_flow": null,
            "grid_auto_rows": null,
            "grid_column": null,
            "grid_gap": null,
            "grid_row": null,
            "grid_template_areas": null,
            "grid_template_columns": null,
            "grid_template_rows": null,
            "height": null,
            "justify_content": null,
            "justify_items": null,
            "left": null,
            "margin": null,
            "max_height": null,
            "max_width": null,
            "min_height": null,
            "min_width": null,
            "object_fit": null,
            "object_position": null,
            "order": null,
            "overflow": null,
            "overflow_x": null,
            "overflow_y": null,
            "padding": null,
            "right": null,
            "top": null,
            "visibility": null,
            "width": null
          }
        },
        "66f03c027a364070857b9af9c7bd8ed4": {
          "model_module": "@jupyter-widgets/controls",
          "model_name": "ProgressStyleModel",
          "model_module_version": "1.5.0",
          "state": {
            "_model_module": "@jupyter-widgets/controls",
            "_model_module_version": "1.5.0",
            "_model_name": "ProgressStyleModel",
            "_view_count": null,
            "_view_module": "@jupyter-widgets/base",
            "_view_module_version": "1.2.0",
            "_view_name": "StyleView",
            "bar_color": null,
            "description_width": ""
          }
        },
        "8a337a2c91ba4cd59a117666323a5a94": {
          "model_module": "@jupyter-widgets/base",
          "model_name": "LayoutModel",
          "model_module_version": "1.2.0",
          "state": {
            "_model_module": "@jupyter-widgets/base",
            "_model_module_version": "1.2.0",
            "_model_name": "LayoutModel",
            "_view_count": null,
            "_view_module": "@jupyter-widgets/base",
            "_view_module_version": "1.2.0",
            "_view_name": "LayoutView",
            "align_content": null,
            "align_items": null,
            "align_self": null,
            "border": null,
            "bottom": null,
            "display": null,
            "flex": null,
            "flex_flow": null,
            "grid_area": null,
            "grid_auto_columns": null,
            "grid_auto_flow": null,
            "grid_auto_rows": null,
            "grid_column": null,
            "grid_gap": null,
            "grid_row": null,
            "grid_template_areas": null,
            "grid_template_columns": null,
            "grid_template_rows": null,
            "height": null,
            "justify_content": null,
            "justify_items": null,
            "left": null,
            "margin": null,
            "max_height": null,
            "max_width": null,
            "min_height": null,
            "min_width": null,
            "object_fit": null,
            "object_position": null,
            "order": null,
            "overflow": null,
            "overflow_x": null,
            "overflow_y": null,
            "padding": null,
            "right": null,
            "top": null,
            "visibility": null,
            "width": null
          }
        },
        "1bca2ee31ac04825905ad3d5679beceb": {
          "model_module": "@jupyter-widgets/controls",
          "model_name": "DescriptionStyleModel",
          "model_module_version": "1.5.0",
          "state": {
            "_model_module": "@jupyter-widgets/controls",
            "_model_module_version": "1.5.0",
            "_model_name": "DescriptionStyleModel",
            "_view_count": null,
            "_view_module": "@jupyter-widgets/base",
            "_view_module_version": "1.2.0",
            "_view_name": "StyleView",
            "description_width": ""
          }
        },
        "b112cb483e7f43c282ea995b1831f045": {
          "model_module": "@jupyter-widgets/controls",
          "model_name": "HBoxModel",
          "model_module_version": "1.5.0",
          "state": {
            "_dom_classes": [],
            "_model_module": "@jupyter-widgets/controls",
            "_model_module_version": "1.5.0",
            "_model_name": "HBoxModel",
            "_view_count": null,
            "_view_module": "@jupyter-widgets/controls",
            "_view_module_version": "1.5.0",
            "_view_name": "HBoxView",
            "box_style": "",
            "children": [
              "IPY_MODEL_fed658bac4f649dcad8551c9ac27e4ac",
              "IPY_MODEL_c2be2904c85247a1ab45df8c1ce3ba9f",
              "IPY_MODEL_2b3d528533ad42569beb4ddb84c742f8"
            ],
            "layout": "IPY_MODEL_d10e2352ff424735a9c4cefee587d2bb"
          }
        },
        "fed658bac4f649dcad8551c9ac27e4ac": {
          "model_module": "@jupyter-widgets/controls",
          "model_name": "HTMLModel",
          "model_module_version": "1.5.0",
          "state": {
            "_dom_classes": [],
            "_model_module": "@jupyter-widgets/controls",
            "_model_module_version": "1.5.0",
            "_model_name": "HTMLModel",
            "_view_count": null,
            "_view_module": "@jupyter-widgets/controls",
            "_view_module_version": "1.5.0",
            "_view_name": "HTMLView",
            "description": "",
            "description_tooltip": null,
            "layout": "IPY_MODEL_b0b5dfb359ea44f3952ba38c1bdfd1d3",
            "placeholder": "​",
            "style": "IPY_MODEL_f7c2d9233ff947bbad0b34a698ecd1d2",
            "value": "Creating parquet from Arrow format: 100%"
          }
        },
        "c2be2904c85247a1ab45df8c1ce3ba9f": {
          "model_module": "@jupyter-widgets/controls",
          "model_name": "FloatProgressModel",
          "model_module_version": "1.5.0",
          "state": {
            "_dom_classes": [],
            "_model_module": "@jupyter-widgets/controls",
            "_model_module_version": "1.5.0",
            "_model_name": "FloatProgressModel",
            "_view_count": null,
            "_view_module": "@jupyter-widgets/controls",
            "_view_module_version": "1.5.0",
            "_view_name": "ProgressView",
            "bar_style": "success",
            "description": "",
            "description_tooltip": null,
            "layout": "IPY_MODEL_463b6e88483e4c71a2e1cdd70ee74640",
            "max": 162,
            "min": 0,
            "orientation": "horizontal",
            "style": "IPY_MODEL_13ff406d8e2c45a3b1817b955be30d19",
            "value": 162
          }
        },
        "2b3d528533ad42569beb4ddb84c742f8": {
          "model_module": "@jupyter-widgets/controls",
          "model_name": "HTMLModel",
          "model_module_version": "1.5.0",
          "state": {
            "_dom_classes": [],
            "_model_module": "@jupyter-widgets/controls",
            "_model_module_version": "1.5.0",
            "_model_name": "HTMLModel",
            "_view_count": null,
            "_view_module": "@jupyter-widgets/controls",
            "_view_module_version": "1.5.0",
            "_view_name": "HTMLView",
            "description": "",
            "description_tooltip": null,
            "layout": "IPY_MODEL_5a889a224747416da950564414ba2786",
            "placeholder": "​",
            "style": "IPY_MODEL_7b227c4c62a34b97a6bc057e688e9a69",
            "value": " 162/162 [00:01&lt;00:00, 140.89ba/s]"
          }
        },
        "d10e2352ff424735a9c4cefee587d2bb": {
          "model_module": "@jupyter-widgets/base",
          "model_name": "LayoutModel",
          "model_module_version": "1.2.0",
          "state": {
            "_model_module": "@jupyter-widgets/base",
            "_model_module_version": "1.2.0",
            "_model_name": "LayoutModel",
            "_view_count": null,
            "_view_module": "@jupyter-widgets/base",
            "_view_module_version": "1.2.0",
            "_view_name": "LayoutView",
            "align_content": null,
            "align_items": null,
            "align_self": null,
            "border": null,
            "bottom": null,
            "display": null,
            "flex": null,
            "flex_flow": null,
            "grid_area": null,
            "grid_auto_columns": null,
            "grid_auto_flow": null,
            "grid_auto_rows": null,
            "grid_column": null,
            "grid_gap": null,
            "grid_row": null,
            "grid_template_areas": null,
            "grid_template_columns": null,
            "grid_template_rows": null,
            "height": null,
            "justify_content": null,
            "justify_items": null,
            "left": null,
            "margin": null,
            "max_height": null,
            "max_width": null,
            "min_height": null,
            "min_width": null,
            "object_fit": null,
            "object_position": null,
            "order": null,
            "overflow": null,
            "overflow_x": null,
            "overflow_y": null,
            "padding": null,
            "right": null,
            "top": null,
            "visibility": null,
            "width": null
          }
        },
        "b0b5dfb359ea44f3952ba38c1bdfd1d3": {
          "model_module": "@jupyter-widgets/base",
          "model_name": "LayoutModel",
          "model_module_version": "1.2.0",
          "state": {
            "_model_module": "@jupyter-widgets/base",
            "_model_module_version": "1.2.0",
            "_model_name": "LayoutModel",
            "_view_count": null,
            "_view_module": "@jupyter-widgets/base",
            "_view_module_version": "1.2.0",
            "_view_name": "LayoutView",
            "align_content": null,
            "align_items": null,
            "align_self": null,
            "border": null,
            "bottom": null,
            "display": null,
            "flex": null,
            "flex_flow": null,
            "grid_area": null,
            "grid_auto_columns": null,
            "grid_auto_flow": null,
            "grid_auto_rows": null,
            "grid_column": null,
            "grid_gap": null,
            "grid_row": null,
            "grid_template_areas": null,
            "grid_template_columns": null,
            "grid_template_rows": null,
            "height": null,
            "justify_content": null,
            "justify_items": null,
            "left": null,
            "margin": null,
            "max_height": null,
            "max_width": null,
            "min_height": null,
            "min_width": null,
            "object_fit": null,
            "object_position": null,
            "order": null,
            "overflow": null,
            "overflow_x": null,
            "overflow_y": null,
            "padding": null,
            "right": null,
            "top": null,
            "visibility": null,
            "width": null
          }
        },
        "f7c2d9233ff947bbad0b34a698ecd1d2": {
          "model_module": "@jupyter-widgets/controls",
          "model_name": "DescriptionStyleModel",
          "model_module_version": "1.5.0",
          "state": {
            "_model_module": "@jupyter-widgets/controls",
            "_model_module_version": "1.5.0",
            "_model_name": "DescriptionStyleModel",
            "_view_count": null,
            "_view_module": "@jupyter-widgets/base",
            "_view_module_version": "1.2.0",
            "_view_name": "StyleView",
            "description_width": ""
          }
        },
        "463b6e88483e4c71a2e1cdd70ee74640": {
          "model_module": "@jupyter-widgets/base",
          "model_name": "LayoutModel",
          "model_module_version": "1.2.0",
          "state": {
            "_model_module": "@jupyter-widgets/base",
            "_model_module_version": "1.2.0",
            "_model_name": "LayoutModel",
            "_view_count": null,
            "_view_module": "@jupyter-widgets/base",
            "_view_module_version": "1.2.0",
            "_view_name": "LayoutView",
            "align_content": null,
            "align_items": null,
            "align_self": null,
            "border": null,
            "bottom": null,
            "display": null,
            "flex": null,
            "flex_flow": null,
            "grid_area": null,
            "grid_auto_columns": null,
            "grid_auto_flow": null,
            "grid_auto_rows": null,
            "grid_column": null,
            "grid_gap": null,
            "grid_row": null,
            "grid_template_areas": null,
            "grid_template_columns": null,
            "grid_template_rows": null,
            "height": null,
            "justify_content": null,
            "justify_items": null,
            "left": null,
            "margin": null,
            "max_height": null,
            "max_width": null,
            "min_height": null,
            "min_width": null,
            "object_fit": null,
            "object_position": null,
            "order": null,
            "overflow": null,
            "overflow_x": null,
            "overflow_y": null,
            "padding": null,
            "right": null,
            "top": null,
            "visibility": null,
            "width": null
          }
        },
        "13ff406d8e2c45a3b1817b955be30d19": {
          "model_module": "@jupyter-widgets/controls",
          "model_name": "ProgressStyleModel",
          "model_module_version": "1.5.0",
          "state": {
            "_model_module": "@jupyter-widgets/controls",
            "_model_module_version": "1.5.0",
            "_model_name": "ProgressStyleModel",
            "_view_count": null,
            "_view_module": "@jupyter-widgets/base",
            "_view_module_version": "1.2.0",
            "_view_name": "StyleView",
            "bar_color": null,
            "description_width": ""
          }
        },
        "5a889a224747416da950564414ba2786": {
          "model_module": "@jupyter-widgets/base",
          "model_name": "LayoutModel",
          "model_module_version": "1.2.0",
          "state": {
            "_model_module": "@jupyter-widgets/base",
            "_model_module_version": "1.2.0",
            "_model_name": "LayoutModel",
            "_view_count": null,
            "_view_module": "@jupyter-widgets/base",
            "_view_module_version": "1.2.0",
            "_view_name": "LayoutView",
            "align_content": null,
            "align_items": null,
            "align_self": null,
            "border": null,
            "bottom": null,
            "display": null,
            "flex": null,
            "flex_flow": null,
            "grid_area": null,
            "grid_auto_columns": null,
            "grid_auto_flow": null,
            "grid_auto_rows": null,
            "grid_column": null,
            "grid_gap": null,
            "grid_row": null,
            "grid_template_areas": null,
            "grid_template_columns": null,
            "grid_template_rows": null,
            "height": null,
            "justify_content": null,
            "justify_items": null,
            "left": null,
            "margin": null,
            "max_height": null,
            "max_width": null,
            "min_height": null,
            "min_width": null,
            "object_fit": null,
            "object_position": null,
            "order": null,
            "overflow": null,
            "overflow_x": null,
            "overflow_y": null,
            "padding": null,
            "right": null,
            "top": null,
            "visibility": null,
            "width": null
          }
        },
        "7b227c4c62a34b97a6bc057e688e9a69": {
          "model_module": "@jupyter-widgets/controls",
          "model_name": "DescriptionStyleModel",
          "model_module_version": "1.5.0",
          "state": {
            "_model_module": "@jupyter-widgets/controls",
            "_model_module_version": "1.5.0",
            "_model_name": "DescriptionStyleModel",
            "_view_count": null,
            "_view_module": "@jupyter-widgets/base",
            "_view_module_version": "1.2.0",
            "_view_name": "StyleView",
            "description_width": ""
          }
        },
        "27da9c39a1ef4b579976b76007a9bf5f": {
          "model_module": "@jupyter-widgets/controls",
          "model_name": "HBoxModel",
          "model_module_version": "1.5.0",
          "state": {
            "_dom_classes": [],
            "_model_module": "@jupyter-widgets/controls",
            "_model_module_version": "1.5.0",
            "_model_name": "HBoxModel",
            "_view_count": null,
            "_view_module": "@jupyter-widgets/controls",
            "_view_module_version": "1.5.0",
            "_view_name": "HBoxView",
            "box_style": "",
            "children": [
              "IPY_MODEL_ac1fd6bbaa164bbe91225c45421ac59e",
              "IPY_MODEL_cd061ff6bcf042ebb4d137a4637e2211",
              "IPY_MODEL_ec1dc501ce744a31be32b1a57b2c6c9b"
            ],
            "layout": "IPY_MODEL_a6464e572aca4fefbec3c25ec51f65a5"
          }
        },
        "ac1fd6bbaa164bbe91225c45421ac59e": {
          "model_module": "@jupyter-widgets/controls",
          "model_name": "HTMLModel",
          "model_module_version": "1.5.0",
          "state": {
            "_dom_classes": [],
            "_model_module": "@jupyter-widgets/controls",
            "_model_module_version": "1.5.0",
            "_model_name": "HTMLModel",
            "_view_count": null,
            "_view_module": "@jupyter-widgets/controls",
            "_view_module_version": "1.5.0",
            "_view_name": "HTMLView",
            "description": "",
            "description_tooltip": null,
            "layout": "IPY_MODEL_64fb75afe5ef4123ba9ef59086f113e5",
            "placeholder": "​",
            "style": "IPY_MODEL_74ce8185a3a0408f98d7320bcdb29e7e",
            "value": "Uploading the dataset shards: 100%"
          }
        },
        "cd061ff6bcf042ebb4d137a4637e2211": {
          "model_module": "@jupyter-widgets/controls",
          "model_name": "FloatProgressModel",
          "model_module_version": "1.5.0",
          "state": {
            "_dom_classes": [],
            "_model_module": "@jupyter-widgets/controls",
            "_model_module_version": "1.5.0",
            "_model_name": "FloatProgressModel",
            "_view_count": null,
            "_view_module": "@jupyter-widgets/controls",
            "_view_module_version": "1.5.0",
            "_view_name": "ProgressView",
            "bar_style": "success",
            "description": "",
            "description_tooltip": null,
            "layout": "IPY_MODEL_9b4c0f012de54c0cb9faa76500a2f9f5",
            "max": 1,
            "min": 0,
            "orientation": "horizontal",
            "style": "IPY_MODEL_65b1fa1bfce34c0082853c0166602d48",
            "value": 1
          }
        },
        "ec1dc501ce744a31be32b1a57b2c6c9b": {
          "model_module": "@jupyter-widgets/controls",
          "model_name": "HTMLModel",
          "model_module_version": "1.5.0",
          "state": {
            "_dom_classes": [],
            "_model_module": "@jupyter-widgets/controls",
            "_model_module_version": "1.5.0",
            "_model_name": "HTMLModel",
            "_view_count": null,
            "_view_module": "@jupyter-widgets/controls",
            "_view_module_version": "1.5.0",
            "_view_name": "HTMLView",
            "description": "",
            "description_tooltip": null,
            "layout": "IPY_MODEL_31ec22b156384005bb0ef49f7a890a2d",
            "placeholder": "​",
            "style": "IPY_MODEL_ec3375a61ce74fe1826d8609b20d710f",
            "value": " 1/1 [00:01&lt;00:00,  1.50s/it]"
          }
        },
        "a6464e572aca4fefbec3c25ec51f65a5": {
          "model_module": "@jupyter-widgets/base",
          "model_name": "LayoutModel",
          "model_module_version": "1.2.0",
          "state": {
            "_model_module": "@jupyter-widgets/base",
            "_model_module_version": "1.2.0",
            "_model_name": "LayoutModel",
            "_view_count": null,
            "_view_module": "@jupyter-widgets/base",
            "_view_module_version": "1.2.0",
            "_view_name": "LayoutView",
            "align_content": null,
            "align_items": null,
            "align_self": null,
            "border": null,
            "bottom": null,
            "display": null,
            "flex": null,
            "flex_flow": null,
            "grid_area": null,
            "grid_auto_columns": null,
            "grid_auto_flow": null,
            "grid_auto_rows": null,
            "grid_column": null,
            "grid_gap": null,
            "grid_row": null,
            "grid_template_areas": null,
            "grid_template_columns": null,
            "grid_template_rows": null,
            "height": null,
            "justify_content": null,
            "justify_items": null,
            "left": null,
            "margin": null,
            "max_height": null,
            "max_width": null,
            "min_height": null,
            "min_width": null,
            "object_fit": null,
            "object_position": null,
            "order": null,
            "overflow": null,
            "overflow_x": null,
            "overflow_y": null,
            "padding": null,
            "right": null,
            "top": null,
            "visibility": null,
            "width": null
          }
        },
        "64fb75afe5ef4123ba9ef59086f113e5": {
          "model_module": "@jupyter-widgets/base",
          "model_name": "LayoutModel",
          "model_module_version": "1.2.0",
          "state": {
            "_model_module": "@jupyter-widgets/base",
            "_model_module_version": "1.2.0",
            "_model_name": "LayoutModel",
            "_view_count": null,
            "_view_module": "@jupyter-widgets/base",
            "_view_module_version": "1.2.0",
            "_view_name": "LayoutView",
            "align_content": null,
            "align_items": null,
            "align_self": null,
            "border": null,
            "bottom": null,
            "display": null,
            "flex": null,
            "flex_flow": null,
            "grid_area": null,
            "grid_auto_columns": null,
            "grid_auto_flow": null,
            "grid_auto_rows": null,
            "grid_column": null,
            "grid_gap": null,
            "grid_row": null,
            "grid_template_areas": null,
            "grid_template_columns": null,
            "grid_template_rows": null,
            "height": null,
            "justify_content": null,
            "justify_items": null,
            "left": null,
            "margin": null,
            "max_height": null,
            "max_width": null,
            "min_height": null,
            "min_width": null,
            "object_fit": null,
            "object_position": null,
            "order": null,
            "overflow": null,
            "overflow_x": null,
            "overflow_y": null,
            "padding": null,
            "right": null,
            "top": null,
            "visibility": null,
            "width": null
          }
        },
        "74ce8185a3a0408f98d7320bcdb29e7e": {
          "model_module": "@jupyter-widgets/controls",
          "model_name": "DescriptionStyleModel",
          "model_module_version": "1.5.0",
          "state": {
            "_model_module": "@jupyter-widgets/controls",
            "_model_module_version": "1.5.0",
            "_model_name": "DescriptionStyleModel",
            "_view_count": null,
            "_view_module": "@jupyter-widgets/base",
            "_view_module_version": "1.2.0",
            "_view_name": "StyleView",
            "description_width": ""
          }
        },
        "9b4c0f012de54c0cb9faa76500a2f9f5": {
          "model_module": "@jupyter-widgets/base",
          "model_name": "LayoutModel",
          "model_module_version": "1.2.0",
          "state": {
            "_model_module": "@jupyter-widgets/base",
            "_model_module_version": "1.2.0",
            "_model_name": "LayoutModel",
            "_view_count": null,
            "_view_module": "@jupyter-widgets/base",
            "_view_module_version": "1.2.0",
            "_view_name": "LayoutView",
            "align_content": null,
            "align_items": null,
            "align_self": null,
            "border": null,
            "bottom": null,
            "display": null,
            "flex": null,
            "flex_flow": null,
            "grid_area": null,
            "grid_auto_columns": null,
            "grid_auto_flow": null,
            "grid_auto_rows": null,
            "grid_column": null,
            "grid_gap": null,
            "grid_row": null,
            "grid_template_areas": null,
            "grid_template_columns": null,
            "grid_template_rows": null,
            "height": null,
            "justify_content": null,
            "justify_items": null,
            "left": null,
            "margin": null,
            "max_height": null,
            "max_width": null,
            "min_height": null,
            "min_width": null,
            "object_fit": null,
            "object_position": null,
            "order": null,
            "overflow": null,
            "overflow_x": null,
            "overflow_y": null,
            "padding": null,
            "right": null,
            "top": null,
            "visibility": null,
            "width": null
          }
        },
        "65b1fa1bfce34c0082853c0166602d48": {
          "model_module": "@jupyter-widgets/controls",
          "model_name": "ProgressStyleModel",
          "model_module_version": "1.5.0",
          "state": {
            "_model_module": "@jupyter-widgets/controls",
            "_model_module_version": "1.5.0",
            "_model_name": "ProgressStyleModel",
            "_view_count": null,
            "_view_module": "@jupyter-widgets/base",
            "_view_module_version": "1.2.0",
            "_view_name": "StyleView",
            "bar_color": null,
            "description_width": ""
          }
        },
        "31ec22b156384005bb0ef49f7a890a2d": {
          "model_module": "@jupyter-widgets/base",
          "model_name": "LayoutModel",
          "model_module_version": "1.2.0",
          "state": {
            "_model_module": "@jupyter-widgets/base",
            "_model_module_version": "1.2.0",
            "_model_name": "LayoutModel",
            "_view_count": null,
            "_view_module": "@jupyter-widgets/base",
            "_view_module_version": "1.2.0",
            "_view_name": "LayoutView",
            "align_content": null,
            "align_items": null,
            "align_self": null,
            "border": null,
            "bottom": null,
            "display": null,
            "flex": null,
            "flex_flow": null,
            "grid_area": null,
            "grid_auto_columns": null,
            "grid_auto_flow": null,
            "grid_auto_rows": null,
            "grid_column": null,
            "grid_gap": null,
            "grid_row": null,
            "grid_template_areas": null,
            "grid_template_columns": null,
            "grid_template_rows": null,
            "height": null,
            "justify_content": null,
            "justify_items": null,
            "left": null,
            "margin": null,
            "max_height": null,
            "max_width": null,
            "min_height": null,
            "min_width": null,
            "object_fit": null,
            "object_position": null,
            "order": null,
            "overflow": null,
            "overflow_x": null,
            "overflow_y": null,
            "padding": null,
            "right": null,
            "top": null,
            "visibility": null,
            "width": null
          }
        },
        "ec3375a61ce74fe1826d8609b20d710f": {
          "model_module": "@jupyter-widgets/controls",
          "model_name": "DescriptionStyleModel",
          "model_module_version": "1.5.0",
          "state": {
            "_model_module": "@jupyter-widgets/controls",
            "_model_module_version": "1.5.0",
            "_model_name": "DescriptionStyleModel",
            "_view_count": null,
            "_view_module": "@jupyter-widgets/base",
            "_view_module_version": "1.2.0",
            "_view_name": "StyleView",
            "description_width": ""
          }
        },
        "d92eae520b97491ea2de9ce476573ffd": {
          "model_module": "@jupyter-widgets/controls",
          "model_name": "HBoxModel",
          "model_module_version": "1.5.0",
          "state": {
            "_dom_classes": [],
            "_model_module": "@jupyter-widgets/controls",
            "_model_module_version": "1.5.0",
            "_model_name": "HBoxModel",
            "_view_count": null,
            "_view_module": "@jupyter-widgets/controls",
            "_view_module_version": "1.5.0",
            "_view_name": "HBoxView",
            "box_style": "",
            "children": [
              "IPY_MODEL_d85a99ecf4924ba78970fdb8fd450ea7",
              "IPY_MODEL_ca66e83806b04f8897438ab507bdaf6e",
              "IPY_MODEL_1cd3fbb10db74810bd7e74c334e3a1c3"
            ],
            "layout": "IPY_MODEL_fb80c45eef6d4774902c5a6f978c354c"
          }
        },
        "d85a99ecf4924ba78970fdb8fd450ea7": {
          "model_module": "@jupyter-widgets/controls",
          "model_name": "HTMLModel",
          "model_module_version": "1.5.0",
          "state": {
            "_dom_classes": [],
            "_model_module": "@jupyter-widgets/controls",
            "_model_module_version": "1.5.0",
            "_model_name": "HTMLModel",
            "_view_count": null,
            "_view_module": "@jupyter-widgets/controls",
            "_view_module_version": "1.5.0",
            "_view_name": "HTMLView",
            "description": "",
            "description_tooltip": null,
            "layout": "IPY_MODEL_d1c2da79ef324cf2a62e2b5a0c2151c9",
            "placeholder": "​",
            "style": "IPY_MODEL_e5d95275145f4e4195cf115cb4eea675",
            "value": "Creating parquet from Arrow format: 100%"
          }
        },
        "ca66e83806b04f8897438ab507bdaf6e": {
          "model_module": "@jupyter-widgets/controls",
          "model_name": "FloatProgressModel",
          "model_module_version": "1.5.0",
          "state": {
            "_dom_classes": [],
            "_model_module": "@jupyter-widgets/controls",
            "_model_module_version": "1.5.0",
            "_model_name": "FloatProgressModel",
            "_view_count": null,
            "_view_module": "@jupyter-widgets/controls",
            "_view_module_version": "1.5.0",
            "_view_name": "ProgressView",
            "bar_style": "success",
            "description": "",
            "description_tooltip": null,
            "layout": "IPY_MODEL_da1ac05df991429d861383a0cdeb1268",
            "max": 54,
            "min": 0,
            "orientation": "horizontal",
            "style": "IPY_MODEL_fc1a1f8b64fb4651bf3296d8432d2bbd",
            "value": 54
          }
        },
        "1cd3fbb10db74810bd7e74c334e3a1c3": {
          "model_module": "@jupyter-widgets/controls",
          "model_name": "HTMLModel",
          "model_module_version": "1.5.0",
          "state": {
            "_dom_classes": [],
            "_model_module": "@jupyter-widgets/controls",
            "_model_module_version": "1.5.0",
            "_model_name": "HTMLModel",
            "_view_count": null,
            "_view_module": "@jupyter-widgets/controls",
            "_view_module_version": "1.5.0",
            "_view_name": "HTMLView",
            "description": "",
            "description_tooltip": null,
            "layout": "IPY_MODEL_aa2f7371eadf43b2add08205a0ef2841",
            "placeholder": "​",
            "style": "IPY_MODEL_87e62722a49d4080ab0045ec1353313f",
            "value": " 54/54 [00:00&lt;00:00, 214.16ba/s]"
          }
        },
        "fb80c45eef6d4774902c5a6f978c354c": {
          "model_module": "@jupyter-widgets/base",
          "model_name": "LayoutModel",
          "model_module_version": "1.2.0",
          "state": {
            "_model_module": "@jupyter-widgets/base",
            "_model_module_version": "1.2.0",
            "_model_name": "LayoutModel",
            "_view_count": null,
            "_view_module": "@jupyter-widgets/base",
            "_view_module_version": "1.2.0",
            "_view_name": "LayoutView",
            "align_content": null,
            "align_items": null,
            "align_self": null,
            "border": null,
            "bottom": null,
            "display": null,
            "flex": null,
            "flex_flow": null,
            "grid_area": null,
            "grid_auto_columns": null,
            "grid_auto_flow": null,
            "grid_auto_rows": null,
            "grid_column": null,
            "grid_gap": null,
            "grid_row": null,
            "grid_template_areas": null,
            "grid_template_columns": null,
            "grid_template_rows": null,
            "height": null,
            "justify_content": null,
            "justify_items": null,
            "left": null,
            "margin": null,
            "max_height": null,
            "max_width": null,
            "min_height": null,
            "min_width": null,
            "object_fit": null,
            "object_position": null,
            "order": null,
            "overflow": null,
            "overflow_x": null,
            "overflow_y": null,
            "padding": null,
            "right": null,
            "top": null,
            "visibility": null,
            "width": null
          }
        },
        "d1c2da79ef324cf2a62e2b5a0c2151c9": {
          "model_module": "@jupyter-widgets/base",
          "model_name": "LayoutModel",
          "model_module_version": "1.2.0",
          "state": {
            "_model_module": "@jupyter-widgets/base",
            "_model_module_version": "1.2.0",
            "_model_name": "LayoutModel",
            "_view_count": null,
            "_view_module": "@jupyter-widgets/base",
            "_view_module_version": "1.2.0",
            "_view_name": "LayoutView",
            "align_content": null,
            "align_items": null,
            "align_self": null,
            "border": null,
            "bottom": null,
            "display": null,
            "flex": null,
            "flex_flow": null,
            "grid_area": null,
            "grid_auto_columns": null,
            "grid_auto_flow": null,
            "grid_auto_rows": null,
            "grid_column": null,
            "grid_gap": null,
            "grid_row": null,
            "grid_template_areas": null,
            "grid_template_columns": null,
            "grid_template_rows": null,
            "height": null,
            "justify_content": null,
            "justify_items": null,
            "left": null,
            "margin": null,
            "max_height": null,
            "max_width": null,
            "min_height": null,
            "min_width": null,
            "object_fit": null,
            "object_position": null,
            "order": null,
            "overflow": null,
            "overflow_x": null,
            "overflow_y": null,
            "padding": null,
            "right": null,
            "top": null,
            "visibility": null,
            "width": null
          }
        },
        "e5d95275145f4e4195cf115cb4eea675": {
          "model_module": "@jupyter-widgets/controls",
          "model_name": "DescriptionStyleModel",
          "model_module_version": "1.5.0",
          "state": {
            "_model_module": "@jupyter-widgets/controls",
            "_model_module_version": "1.5.0",
            "_model_name": "DescriptionStyleModel",
            "_view_count": null,
            "_view_module": "@jupyter-widgets/base",
            "_view_module_version": "1.2.0",
            "_view_name": "StyleView",
            "description_width": ""
          }
        },
        "da1ac05df991429d861383a0cdeb1268": {
          "model_module": "@jupyter-widgets/base",
          "model_name": "LayoutModel",
          "model_module_version": "1.2.0",
          "state": {
            "_model_module": "@jupyter-widgets/base",
            "_model_module_version": "1.2.0",
            "_model_name": "LayoutModel",
            "_view_count": null,
            "_view_module": "@jupyter-widgets/base",
            "_view_module_version": "1.2.0",
            "_view_name": "LayoutView",
            "align_content": null,
            "align_items": null,
            "align_self": null,
            "border": null,
            "bottom": null,
            "display": null,
            "flex": null,
            "flex_flow": null,
            "grid_area": null,
            "grid_auto_columns": null,
            "grid_auto_flow": null,
            "grid_auto_rows": null,
            "grid_column": null,
            "grid_gap": null,
            "grid_row": null,
            "grid_template_areas": null,
            "grid_template_columns": null,
            "grid_template_rows": null,
            "height": null,
            "justify_content": null,
            "justify_items": null,
            "left": null,
            "margin": null,
            "max_height": null,
            "max_width": null,
            "min_height": null,
            "min_width": null,
            "object_fit": null,
            "object_position": null,
            "order": null,
            "overflow": null,
            "overflow_x": null,
            "overflow_y": null,
            "padding": null,
            "right": null,
            "top": null,
            "visibility": null,
            "width": null
          }
        },
        "fc1a1f8b64fb4651bf3296d8432d2bbd": {
          "model_module": "@jupyter-widgets/controls",
          "model_name": "ProgressStyleModel",
          "model_module_version": "1.5.0",
          "state": {
            "_model_module": "@jupyter-widgets/controls",
            "_model_module_version": "1.5.0",
            "_model_name": "ProgressStyleModel",
            "_view_count": null,
            "_view_module": "@jupyter-widgets/base",
            "_view_module_version": "1.2.0",
            "_view_name": "StyleView",
            "bar_color": null,
            "description_width": ""
          }
        },
        "aa2f7371eadf43b2add08205a0ef2841": {
          "model_module": "@jupyter-widgets/base",
          "model_name": "LayoutModel",
          "model_module_version": "1.2.0",
          "state": {
            "_model_module": "@jupyter-widgets/base",
            "_model_module_version": "1.2.0",
            "_model_name": "LayoutModel",
            "_view_count": null,
            "_view_module": "@jupyter-widgets/base",
            "_view_module_version": "1.2.0",
            "_view_name": "LayoutView",
            "align_content": null,
            "align_items": null,
            "align_self": null,
            "border": null,
            "bottom": null,
            "display": null,
            "flex": null,
            "flex_flow": null,
            "grid_area": null,
            "grid_auto_columns": null,
            "grid_auto_flow": null,
            "grid_auto_rows": null,
            "grid_column": null,
            "grid_gap": null,
            "grid_row": null,
            "grid_template_areas": null,
            "grid_template_columns": null,
            "grid_template_rows": null,
            "height": null,
            "justify_content": null,
            "justify_items": null,
            "left": null,
            "margin": null,
            "max_height": null,
            "max_width": null,
            "min_height": null,
            "min_width": null,
            "object_fit": null,
            "object_position": null,
            "order": null,
            "overflow": null,
            "overflow_x": null,
            "overflow_y": null,
            "padding": null,
            "right": null,
            "top": null,
            "visibility": null,
            "width": null
          }
        },
        "87e62722a49d4080ab0045ec1353313f": {
          "model_module": "@jupyter-widgets/controls",
          "model_name": "DescriptionStyleModel",
          "model_module_version": "1.5.0",
          "state": {
            "_model_module": "@jupyter-widgets/controls",
            "_model_module_version": "1.5.0",
            "_model_name": "DescriptionStyleModel",
            "_view_count": null,
            "_view_module": "@jupyter-widgets/base",
            "_view_module_version": "1.2.0",
            "_view_name": "StyleView",
            "description_width": ""
          }
        }
      }
    }
  },
  "nbformat": 4,
  "nbformat_minor": 0
}