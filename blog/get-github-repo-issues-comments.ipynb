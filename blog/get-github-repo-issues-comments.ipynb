{
  "nbformat": 4,
  "nbformat_minor": 0,
  "metadata": {
    "colab": {
      "provenance": []
    },
    "kernelspec": {
      "name": "python3",
      "display_name": "Python 3"
    },
    "language_info": {
      "name": "python"
    },
    "widgets": {
      "application/vnd.jupyter.widget-state+json": {
        "989afcbfae504e27b1ac61f7b2b783fc": {
          "model_module": "@jupyter-widgets/controls",
          "model_name": "HBoxModel",
          "model_module_version": "1.5.0",
          "state": {
            "_dom_classes": [],
            "_model_module": "@jupyter-widgets/controls",
            "_model_module_version": "1.5.0",
            "_model_name": "HBoxModel",
            "_view_count": null,
            "_view_module": "@jupyter-widgets/controls",
            "_view_module_version": "1.5.0",
            "_view_name": "HBoxView",
            "box_style": "",
            "children": [
              "IPY_MODEL_ad90173218c04852948e87ef997efbe1",
              "IPY_MODEL_70a26c9375a244a780d785c9ccd455ea",
              "IPY_MODEL_5e3144e0a6af4b31aa6b4620318e40a4"
            ],
            "layout": "IPY_MODEL_812ace5c9b824f15a282bd70292eb60c"
          }
        },
        "ad90173218c04852948e87ef997efbe1": {
          "model_module": "@jupyter-widgets/controls",
          "model_name": "HTMLModel",
          "model_module_version": "1.5.0",
          "state": {
            "_dom_classes": [],
            "_model_module": "@jupyter-widgets/controls",
            "_model_module_version": "1.5.0",
            "_model_name": "HTMLModel",
            "_view_count": null,
            "_view_module": "@jupyter-widgets/controls",
            "_view_module_version": "1.5.0",
            "_view_name": "HTMLView",
            "description": "",
            "description_tooltip": null,
            "layout": "IPY_MODEL_8c6d789f9cf64b27a6b1739839a2ca53",
            "placeholder": "​",
            "style": "IPY_MODEL_1d5cddc8a3504e3589c413e441f457c4",
            "value": "100%"
          }
        },
        "70a26c9375a244a780d785c9ccd455ea": {
          "model_module": "@jupyter-widgets/controls",
          "model_name": "FloatProgressModel",
          "model_module_version": "1.5.0",
          "state": {
            "_dom_classes": [],
            "_model_module": "@jupyter-widgets/controls",
            "_model_module_version": "1.5.0",
            "_model_name": "FloatProgressModel",
            "_view_count": null,
            "_view_module": "@jupyter-widgets/controls",
            "_view_module_version": "1.5.0",
            "_view_name": "ProgressView",
            "bar_style": "success",
            "description": "",
            "description_tooltip": null,
            "layout": "IPY_MODEL_e5e1d1aac59b42648f266b6f20640a4b",
            "max": 125,
            "min": 0,
            "orientation": "horizontal",
            "style": "IPY_MODEL_c819cdce94874baba4214274cec2ef9e",
            "value": 125
          }
        },
        "5e3144e0a6af4b31aa6b4620318e40a4": {
          "model_module": "@jupyter-widgets/controls",
          "model_name": "HTMLModel",
          "model_module_version": "1.5.0",
          "state": {
            "_dom_classes": [],
            "_model_module": "@jupyter-widgets/controls",
            "_model_module_version": "1.5.0",
            "_model_name": "HTMLModel",
            "_view_count": null,
            "_view_module": "@jupyter-widgets/controls",
            "_view_module_version": "1.5.0",
            "_view_name": "HTMLView",
            "description": "",
            "description_tooltip": null,
            "layout": "IPY_MODEL_65bed23f51c64f33ae90f8c507ae96b0",
            "placeholder": "​",
            "style": "IPY_MODEL_edc5b7f75fee4b2fa330faafc91de065",
            "value": " 125/125 [01:28&lt;00:00,  1.77it/s]"
          }
        },
        "812ace5c9b824f15a282bd70292eb60c": {
          "model_module": "@jupyter-widgets/base",
          "model_name": "LayoutModel",
          "model_module_version": "1.2.0",
          "state": {
            "_model_module": "@jupyter-widgets/base",
            "_model_module_version": "1.2.0",
            "_model_name": "LayoutModel",
            "_view_count": null,
            "_view_module": "@jupyter-widgets/base",
            "_view_module_version": "1.2.0",
            "_view_name": "LayoutView",
            "align_content": null,
            "align_items": null,
            "align_self": null,
            "border": null,
            "bottom": null,
            "display": null,
            "flex": null,
            "flex_flow": null,
            "grid_area": null,
            "grid_auto_columns": null,
            "grid_auto_flow": null,
            "grid_auto_rows": null,
            "grid_column": null,
            "grid_gap": null,
            "grid_row": null,
            "grid_template_areas": null,
            "grid_template_columns": null,
            "grid_template_rows": null,
            "height": null,
            "justify_content": null,
            "justify_items": null,
            "left": null,
            "margin": null,
            "max_height": null,
            "max_width": null,
            "min_height": null,
            "min_width": null,
            "object_fit": null,
            "object_position": null,
            "order": null,
            "overflow": null,
            "overflow_x": null,
            "overflow_y": null,
            "padding": null,
            "right": null,
            "top": null,
            "visibility": null,
            "width": null
          }
        },
        "8c6d789f9cf64b27a6b1739839a2ca53": {
          "model_module": "@jupyter-widgets/base",
          "model_name": "LayoutModel",
          "model_module_version": "1.2.0",
          "state": {
            "_model_module": "@jupyter-widgets/base",
            "_model_module_version": "1.2.0",
            "_model_name": "LayoutModel",
            "_view_count": null,
            "_view_module": "@jupyter-widgets/base",
            "_view_module_version": "1.2.0",
            "_view_name": "LayoutView",
            "align_content": null,
            "align_items": null,
            "align_self": null,
            "border": null,
            "bottom": null,
            "display": null,
            "flex": null,
            "flex_flow": null,
            "grid_area": null,
            "grid_auto_columns": null,
            "grid_auto_flow": null,
            "grid_auto_rows": null,
            "grid_column": null,
            "grid_gap": null,
            "grid_row": null,
            "grid_template_areas": null,
            "grid_template_columns": null,
            "grid_template_rows": null,
            "height": null,
            "justify_content": null,
            "justify_items": null,
            "left": null,
            "margin": null,
            "max_height": null,
            "max_width": null,
            "min_height": null,
            "min_width": null,
            "object_fit": null,
            "object_position": null,
            "order": null,
            "overflow": null,
            "overflow_x": null,
            "overflow_y": null,
            "padding": null,
            "right": null,
            "top": null,
            "visibility": null,
            "width": null
          }
        },
        "1d5cddc8a3504e3589c413e441f457c4": {
          "model_module": "@jupyter-widgets/controls",
          "model_name": "DescriptionStyleModel",
          "model_module_version": "1.5.0",
          "state": {
            "_model_module": "@jupyter-widgets/controls",
            "_model_module_version": "1.5.0",
            "_model_name": "DescriptionStyleModel",
            "_view_count": null,
            "_view_module": "@jupyter-widgets/base",
            "_view_module_version": "1.2.0",
            "_view_name": "StyleView",
            "description_width": ""
          }
        },
        "e5e1d1aac59b42648f266b6f20640a4b": {
          "model_module": "@jupyter-widgets/base",
          "model_name": "LayoutModel",
          "model_module_version": "1.2.0",
          "state": {
            "_model_module": "@jupyter-widgets/base",
            "_model_module_version": "1.2.0",
            "_model_name": "LayoutModel",
            "_view_count": null,
            "_view_module": "@jupyter-widgets/base",
            "_view_module_version": "1.2.0",
            "_view_name": "LayoutView",
            "align_content": null,
            "align_items": null,
            "align_self": null,
            "border": null,
            "bottom": null,
            "display": null,
            "flex": null,
            "flex_flow": null,
            "grid_area": null,
            "grid_auto_columns": null,
            "grid_auto_flow": null,
            "grid_auto_rows": null,
            "grid_column": null,
            "grid_gap": null,
            "grid_row": null,
            "grid_template_areas": null,
            "grid_template_columns": null,
            "grid_template_rows": null,
            "height": null,
            "justify_content": null,
            "justify_items": null,
            "left": null,
            "margin": null,
            "max_height": null,
            "max_width": null,
            "min_height": null,
            "min_width": null,
            "object_fit": null,
            "object_position": null,
            "order": null,
            "overflow": null,
            "overflow_x": null,
            "overflow_y": null,
            "padding": null,
            "right": null,
            "top": null,
            "visibility": null,
            "width": null
          }
        },
        "c819cdce94874baba4214274cec2ef9e": {
          "model_module": "@jupyter-widgets/controls",
          "model_name": "ProgressStyleModel",
          "model_module_version": "1.5.0",
          "state": {
            "_model_module": "@jupyter-widgets/controls",
            "_model_module_version": "1.5.0",
            "_model_name": "ProgressStyleModel",
            "_view_count": null,
            "_view_module": "@jupyter-widgets/base",
            "_view_module_version": "1.2.0",
            "_view_name": "StyleView",
            "bar_color": null,
            "description_width": ""
          }
        },
        "65bed23f51c64f33ae90f8c507ae96b0": {
          "model_module": "@jupyter-widgets/base",
          "model_name": "LayoutModel",
          "model_module_version": "1.2.0",
          "state": {
            "_model_module": "@jupyter-widgets/base",
            "_model_module_version": "1.2.0",
            "_model_name": "LayoutModel",
            "_view_count": null,
            "_view_module": "@jupyter-widgets/base",
            "_view_module_version": "1.2.0",
            "_view_name": "LayoutView",
            "align_content": null,
            "align_items": null,
            "align_self": null,
            "border": null,
            "bottom": null,
            "display": null,
            "flex": null,
            "flex_flow": null,
            "grid_area": null,
            "grid_auto_columns": null,
            "grid_auto_flow": null,
            "grid_auto_rows": null,
            "grid_column": null,
            "grid_gap": null,
            "grid_row": null,
            "grid_template_areas": null,
            "grid_template_columns": null,
            "grid_template_rows": null,
            "height": null,
            "justify_content": null,
            "justify_items": null,
            "left": null,
            "margin": null,
            "max_height": null,
            "max_width": null,
            "min_height": null,
            "min_width": null,
            "object_fit": null,
            "object_position": null,
            "order": null,
            "overflow": null,
            "overflow_x": null,
            "overflow_y": null,
            "padding": null,
            "right": null,
            "top": null,
            "visibility": null,
            "width": null
          }
        },
        "edc5b7f75fee4b2fa330faafc91de065": {
          "model_module": "@jupyter-widgets/controls",
          "model_name": "DescriptionStyleModel",
          "model_module_version": "1.5.0",
          "state": {
            "_model_module": "@jupyter-widgets/controls",
            "_model_module_version": "1.5.0",
            "_model_name": "DescriptionStyleModel",
            "_view_count": null,
            "_view_module": "@jupyter-widgets/base",
            "_view_module_version": "1.2.0",
            "_view_name": "StyleView",
            "description_width": ""
          }
        },
        "f603ae4cefef42a999dc1d0ebf18b931": {
          "model_module": "@jupyter-widgets/controls",
          "model_name": "HBoxModel",
          "model_module_version": "1.5.0",
          "state": {
            "_dom_classes": [],
            "_model_module": "@jupyter-widgets/controls",
            "_model_module_version": "1.5.0",
            "_model_name": "HBoxModel",
            "_view_count": null,
            "_view_module": "@jupyter-widgets/controls",
            "_view_module_version": "1.5.0",
            "_view_name": "HBoxView",
            "box_style": "",
            "children": [
              "IPY_MODEL_bd03b38ff40a49af85773cf83066b381",
              "IPY_MODEL_1a6e5d3023d94cafb889b77e75ae4ca1",
              "IPY_MODEL_4d19da8c7b5e48bd9c30fd02b129f8f6"
            ],
            "layout": "IPY_MODEL_b91c47b7b5a7443885fed4a7d4d4205d"
          }
        },
        "bd03b38ff40a49af85773cf83066b381": {
          "model_module": "@jupyter-widgets/controls",
          "model_name": "HTMLModel",
          "model_module_version": "1.5.0",
          "state": {
            "_dom_classes": [],
            "_model_module": "@jupyter-widgets/controls",
            "_model_module_version": "1.5.0",
            "_model_name": "HTMLModel",
            "_view_count": null,
            "_view_module": "@jupyter-widgets/controls",
            "_view_module_version": "1.5.0",
            "_view_name": "HTMLView",
            "description": "",
            "description_tooltip": null,
            "layout": "IPY_MODEL_e03fdfdb9cce4d349fd738900a05747b",
            "placeholder": "​",
            "style": "IPY_MODEL_91587287ac8b47c08259e6edfcec5efb",
            "value": "100%"
          }
        },
        "1a6e5d3023d94cafb889b77e75ae4ca1": {
          "model_module": "@jupyter-widgets/controls",
          "model_name": "FloatProgressModel",
          "model_module_version": "1.5.0",
          "state": {
            "_dom_classes": [],
            "_model_module": "@jupyter-widgets/controls",
            "_model_module_version": "1.5.0",
            "_model_name": "FloatProgressModel",
            "_view_count": null,
            "_view_module": "@jupyter-widgets/controls",
            "_view_module_version": "1.5.0",
            "_view_name": "ProgressView",
            "bar_style": "success",
            "description": "",
            "description_tooltip": null,
            "layout": "IPY_MODEL_6ffcd83287bb48b7839b55e56af09f27",
            "max": 300,
            "min": 0,
            "orientation": "horizontal",
            "style": "IPY_MODEL_8a96803ba35e456baa9bb2f9153d1158",
            "value": 300
          }
        },
        "4d19da8c7b5e48bd9c30fd02b129f8f6": {
          "model_module": "@jupyter-widgets/controls",
          "model_name": "HTMLModel",
          "model_module_version": "1.5.0",
          "state": {
            "_dom_classes": [],
            "_model_module": "@jupyter-widgets/controls",
            "_model_module_version": "1.5.0",
            "_model_name": "HTMLModel",
            "_view_count": null,
            "_view_module": "@jupyter-widgets/controls",
            "_view_module_version": "1.5.0",
            "_view_name": "HTMLView",
            "description": "",
            "description_tooltip": null,
            "layout": "IPY_MODEL_1a207e61dfa44e1a920999ba0b932613",
            "placeholder": "​",
            "style": "IPY_MODEL_5a37c9885afa4fc7b335f723fb22204f",
            "value": " 300/300 [06:15&lt;00:00,  1.30s/it]"
          }
        },
        "b91c47b7b5a7443885fed4a7d4d4205d": {
          "model_module": "@jupyter-widgets/base",
          "model_name": "LayoutModel",
          "model_module_version": "1.2.0",
          "state": {
            "_model_module": "@jupyter-widgets/base",
            "_model_module_version": "1.2.0",
            "_model_name": "LayoutModel",
            "_view_count": null,
            "_view_module": "@jupyter-widgets/base",
            "_view_module_version": "1.2.0",
            "_view_name": "LayoutView",
            "align_content": null,
            "align_items": null,
            "align_self": null,
            "border": null,
            "bottom": null,
            "display": null,
            "flex": null,
            "flex_flow": null,
            "grid_area": null,
            "grid_auto_columns": null,
            "grid_auto_flow": null,
            "grid_auto_rows": null,
            "grid_column": null,
            "grid_gap": null,
            "grid_row": null,
            "grid_template_areas": null,
            "grid_template_columns": null,
            "grid_template_rows": null,
            "height": null,
            "justify_content": null,
            "justify_items": null,
            "left": null,
            "margin": null,
            "max_height": null,
            "max_width": null,
            "min_height": null,
            "min_width": null,
            "object_fit": null,
            "object_position": null,
            "order": null,
            "overflow": null,
            "overflow_x": null,
            "overflow_y": null,
            "padding": null,
            "right": null,
            "top": null,
            "visibility": null,
            "width": null
          }
        },
        "e03fdfdb9cce4d349fd738900a05747b": {
          "model_module": "@jupyter-widgets/base",
          "model_name": "LayoutModel",
          "model_module_version": "1.2.0",
          "state": {
            "_model_module": "@jupyter-widgets/base",
            "_model_module_version": "1.2.0",
            "_model_name": "LayoutModel",
            "_view_count": null,
            "_view_module": "@jupyter-widgets/base",
            "_view_module_version": "1.2.0",
            "_view_name": "LayoutView",
            "align_content": null,
            "align_items": null,
            "align_self": null,
            "border": null,
            "bottom": null,
            "display": null,
            "flex": null,
            "flex_flow": null,
            "grid_area": null,
            "grid_auto_columns": null,
            "grid_auto_flow": null,
            "grid_auto_rows": null,
            "grid_column": null,
            "grid_gap": null,
            "grid_row": null,
            "grid_template_areas": null,
            "grid_template_columns": null,
            "grid_template_rows": null,
            "height": null,
            "justify_content": null,
            "justify_items": null,
            "left": null,
            "margin": null,
            "max_height": null,
            "max_width": null,
            "min_height": null,
            "min_width": null,
            "object_fit": null,
            "object_position": null,
            "order": null,
            "overflow": null,
            "overflow_x": null,
            "overflow_y": null,
            "padding": null,
            "right": null,
            "top": null,
            "visibility": null,
            "width": null
          }
        },
        "91587287ac8b47c08259e6edfcec5efb": {
          "model_module": "@jupyter-widgets/controls",
          "model_name": "DescriptionStyleModel",
          "model_module_version": "1.5.0",
          "state": {
            "_model_module": "@jupyter-widgets/controls",
            "_model_module_version": "1.5.0",
            "_model_name": "DescriptionStyleModel",
            "_view_count": null,
            "_view_module": "@jupyter-widgets/base",
            "_view_module_version": "1.2.0",
            "_view_name": "StyleView",
            "description_width": ""
          }
        },
        "6ffcd83287bb48b7839b55e56af09f27": {
          "model_module": "@jupyter-widgets/base",
          "model_name": "LayoutModel",
          "model_module_version": "1.2.0",
          "state": {
            "_model_module": "@jupyter-widgets/base",
            "_model_module_version": "1.2.0",
            "_model_name": "LayoutModel",
            "_view_count": null,
            "_view_module": "@jupyter-widgets/base",
            "_view_module_version": "1.2.0",
            "_view_name": "LayoutView",
            "align_content": null,
            "align_items": null,
            "align_self": null,
            "border": null,
            "bottom": null,
            "display": null,
            "flex": null,
            "flex_flow": null,
            "grid_area": null,
            "grid_auto_columns": null,
            "grid_auto_flow": null,
            "grid_auto_rows": null,
            "grid_column": null,
            "grid_gap": null,
            "grid_row": null,
            "grid_template_areas": null,
            "grid_template_columns": null,
            "grid_template_rows": null,
            "height": null,
            "justify_content": null,
            "justify_items": null,
            "left": null,
            "margin": null,
            "max_height": null,
            "max_width": null,
            "min_height": null,
            "min_width": null,
            "object_fit": null,
            "object_position": null,
            "order": null,
            "overflow": null,
            "overflow_x": null,
            "overflow_y": null,
            "padding": null,
            "right": null,
            "top": null,
            "visibility": null,
            "width": null
          }
        },
        "8a96803ba35e456baa9bb2f9153d1158": {
          "model_module": "@jupyter-widgets/controls",
          "model_name": "ProgressStyleModel",
          "model_module_version": "1.5.0",
          "state": {
            "_model_module": "@jupyter-widgets/controls",
            "_model_module_version": "1.5.0",
            "_model_name": "ProgressStyleModel",
            "_view_count": null,
            "_view_module": "@jupyter-widgets/base",
            "_view_module_version": "1.2.0",
            "_view_name": "StyleView",
            "bar_color": null,
            "description_width": ""
          }
        },
        "1a207e61dfa44e1a920999ba0b932613": {
          "model_module": "@jupyter-widgets/base",
          "model_name": "LayoutModel",
          "model_module_version": "1.2.0",
          "state": {
            "_model_module": "@jupyter-widgets/base",
            "_model_module_version": "1.2.0",
            "_model_name": "LayoutModel",
            "_view_count": null,
            "_view_module": "@jupyter-widgets/base",
            "_view_module_version": "1.2.0",
            "_view_name": "LayoutView",
            "align_content": null,
            "align_items": null,
            "align_self": null,
            "border": null,
            "bottom": null,
            "display": null,
            "flex": null,
            "flex_flow": null,
            "grid_area": null,
            "grid_auto_columns": null,
            "grid_auto_flow": null,
            "grid_auto_rows": null,
            "grid_column": null,
            "grid_gap": null,
            "grid_row": null,
            "grid_template_areas": null,
            "grid_template_columns": null,
            "grid_template_rows": null,
            "height": null,
            "justify_content": null,
            "justify_items": null,
            "left": null,
            "margin": null,
            "max_height": null,
            "max_width": null,
            "min_height": null,
            "min_width": null,
            "object_fit": null,
            "object_position": null,
            "order": null,
            "overflow": null,
            "overflow_x": null,
            "overflow_y": null,
            "padding": null,
            "right": null,
            "top": null,
            "visibility": null,
            "width": null
          }
        },
        "5a37c9885afa4fc7b335f723fb22204f": {
          "model_module": "@jupyter-widgets/controls",
          "model_name": "DescriptionStyleModel",
          "model_module_version": "1.5.0",
          "state": {
            "_model_module": "@jupyter-widgets/controls",
            "_model_module_version": "1.5.0",
            "_model_name": "DescriptionStyleModel",
            "_view_count": null,
            "_view_module": "@jupyter-widgets/base",
            "_view_module_version": "1.2.0",
            "_view_name": "StyleView",
            "description_width": ""
          }
        },
        "6ced099f43474c6abb00eb7aa2d6b9e3": {
          "model_module": "@jupyter-widgets/controls",
          "model_name": "HBoxModel",
          "model_module_version": "1.5.0",
          "state": {
            "_dom_classes": [],
            "_model_module": "@jupyter-widgets/controls",
            "_model_module_version": "1.5.0",
            "_model_name": "HBoxModel",
            "_view_count": null,
            "_view_module": "@jupyter-widgets/controls",
            "_view_module_version": "1.5.0",
            "_view_name": "HBoxView",
            "box_style": "",
            "children": [
              "IPY_MODEL_3c061db2a36941faa3e1a4d32f56073f",
              "IPY_MODEL_5d703bab28fb4b5c8667d7d70ee7a360",
              "IPY_MODEL_c66c542e9cd748cea34980e64164996b"
            ],
            "layout": "IPY_MODEL_ec329e8adffe4d08ac8a452414015ce1"
          }
        },
        "3c061db2a36941faa3e1a4d32f56073f": {
          "model_module": "@jupyter-widgets/controls",
          "model_name": "HTMLModel",
          "model_module_version": "1.5.0",
          "state": {
            "_dom_classes": [],
            "_model_module": "@jupyter-widgets/controls",
            "_model_module_version": "1.5.0",
            "_model_name": "HTMLModel",
            "_view_count": null,
            "_view_module": "@jupyter-widgets/controls",
            "_view_module_version": "1.5.0",
            "_view_name": "HTMLView",
            "description": "",
            "description_tooltip": null,
            "layout": "IPY_MODEL_aca80c413af6431c8d07766883f60bc8",
            "placeholder": "​",
            "style": "IPY_MODEL_65b1e2b2288140e4be8aa9550bb259d5",
            "value": "100%"
          }
        },
        "5d703bab28fb4b5c8667d7d70ee7a360": {
          "model_module": "@jupyter-widgets/controls",
          "model_name": "FloatProgressModel",
          "model_module_version": "1.5.0",
          "state": {
            "_dom_classes": [],
            "_model_module": "@jupyter-widgets/controls",
            "_model_module_version": "1.5.0",
            "_model_name": "FloatProgressModel",
            "_view_count": null,
            "_view_module": "@jupyter-widgets/controls",
            "_view_module_version": "1.5.0",
            "_view_name": "ProgressView",
            "bar_style": "success",
            "description": "",
            "description_tooltip": null,
            "layout": "IPY_MODEL_800a3d1d99a84d1ea131a065407819c1",
            "max": 40,
            "min": 0,
            "orientation": "horizontal",
            "style": "IPY_MODEL_e85f75d70527406096e728f632a0f2fd",
            "value": 40
          }
        },
        "c66c542e9cd748cea34980e64164996b": {
          "model_module": "@jupyter-widgets/controls",
          "model_name": "HTMLModel",
          "model_module_version": "1.5.0",
          "state": {
            "_dom_classes": [],
            "_model_module": "@jupyter-widgets/controls",
            "_model_module_version": "1.5.0",
            "_model_name": "HTMLModel",
            "_view_count": null,
            "_view_module": "@jupyter-widgets/controls",
            "_view_module_version": "1.5.0",
            "_view_name": "HTMLView",
            "description": "",
            "description_tooltip": null,
            "layout": "IPY_MODEL_434ead830afc4170bfd2aa516e78033c",
            "placeholder": "​",
            "style": "IPY_MODEL_a81d67c47e814fc89b37def9797455d5",
            "value": " 40/40 [00:40&lt;00:00,  1.03it/s]"
          }
        },
        "ec329e8adffe4d08ac8a452414015ce1": {
          "model_module": "@jupyter-widgets/base",
          "model_name": "LayoutModel",
          "model_module_version": "1.2.0",
          "state": {
            "_model_module": "@jupyter-widgets/base",
            "_model_module_version": "1.2.0",
            "_model_name": "LayoutModel",
            "_view_count": null,
            "_view_module": "@jupyter-widgets/base",
            "_view_module_version": "1.2.0",
            "_view_name": "LayoutView",
            "align_content": null,
            "align_items": null,
            "align_self": null,
            "border": null,
            "bottom": null,
            "display": null,
            "flex": null,
            "flex_flow": null,
            "grid_area": null,
            "grid_auto_columns": null,
            "grid_auto_flow": null,
            "grid_auto_rows": null,
            "grid_column": null,
            "grid_gap": null,
            "grid_row": null,
            "grid_template_areas": null,
            "grid_template_columns": null,
            "grid_template_rows": null,
            "height": null,
            "justify_content": null,
            "justify_items": null,
            "left": null,
            "margin": null,
            "max_height": null,
            "max_width": null,
            "min_height": null,
            "min_width": null,
            "object_fit": null,
            "object_position": null,
            "order": null,
            "overflow": null,
            "overflow_x": null,
            "overflow_y": null,
            "padding": null,
            "right": null,
            "top": null,
            "visibility": null,
            "width": null
          }
        },
        "aca80c413af6431c8d07766883f60bc8": {
          "model_module": "@jupyter-widgets/base",
          "model_name": "LayoutModel",
          "model_module_version": "1.2.0",
          "state": {
            "_model_module": "@jupyter-widgets/base",
            "_model_module_version": "1.2.0",
            "_model_name": "LayoutModel",
            "_view_count": null,
            "_view_module": "@jupyter-widgets/base",
            "_view_module_version": "1.2.0",
            "_view_name": "LayoutView",
            "align_content": null,
            "align_items": null,
            "align_self": null,
            "border": null,
            "bottom": null,
            "display": null,
            "flex": null,
            "flex_flow": null,
            "grid_area": null,
            "grid_auto_columns": null,
            "grid_auto_flow": null,
            "grid_auto_rows": null,
            "grid_column": null,
            "grid_gap": null,
            "grid_row": null,
            "grid_template_areas": null,
            "grid_template_columns": null,
            "grid_template_rows": null,
            "height": null,
            "justify_content": null,
            "justify_items": null,
            "left": null,
            "margin": null,
            "max_height": null,
            "max_width": null,
            "min_height": null,
            "min_width": null,
            "object_fit": null,
            "object_position": null,
            "order": null,
            "overflow": null,
            "overflow_x": null,
            "overflow_y": null,
            "padding": null,
            "right": null,
            "top": null,
            "visibility": null,
            "width": null
          }
        },
        "65b1e2b2288140e4be8aa9550bb259d5": {
          "model_module": "@jupyter-widgets/controls",
          "model_name": "DescriptionStyleModel",
          "model_module_version": "1.5.0",
          "state": {
            "_model_module": "@jupyter-widgets/controls",
            "_model_module_version": "1.5.0",
            "_model_name": "DescriptionStyleModel",
            "_view_count": null,
            "_view_module": "@jupyter-widgets/base",
            "_view_module_version": "1.2.0",
            "_view_name": "StyleView",
            "description_width": ""
          }
        },
        "800a3d1d99a84d1ea131a065407819c1": {
          "model_module": "@jupyter-widgets/base",
          "model_name": "LayoutModel",
          "model_module_version": "1.2.0",
          "state": {
            "_model_module": "@jupyter-widgets/base",
            "_model_module_version": "1.2.0",
            "_model_name": "LayoutModel",
            "_view_count": null,
            "_view_module": "@jupyter-widgets/base",
            "_view_module_version": "1.2.0",
            "_view_name": "LayoutView",
            "align_content": null,
            "align_items": null,
            "align_self": null,
            "border": null,
            "bottom": null,
            "display": null,
            "flex": null,
            "flex_flow": null,
            "grid_area": null,
            "grid_auto_columns": null,
            "grid_auto_flow": null,
            "grid_auto_rows": null,
            "grid_column": null,
            "grid_gap": null,
            "grid_row": null,
            "grid_template_areas": null,
            "grid_template_columns": null,
            "grid_template_rows": null,
            "height": null,
            "justify_content": null,
            "justify_items": null,
            "left": null,
            "margin": null,
            "max_height": null,
            "max_width": null,
            "min_height": null,
            "min_width": null,
            "object_fit": null,
            "object_position": null,
            "order": null,
            "overflow": null,
            "overflow_x": null,
            "overflow_y": null,
            "padding": null,
            "right": null,
            "top": null,
            "visibility": null,
            "width": null
          }
        },
        "e85f75d70527406096e728f632a0f2fd": {
          "model_module": "@jupyter-widgets/controls",
          "model_name": "ProgressStyleModel",
          "model_module_version": "1.5.0",
          "state": {
            "_model_module": "@jupyter-widgets/controls",
            "_model_module_version": "1.5.0",
            "_model_name": "ProgressStyleModel",
            "_view_count": null,
            "_view_module": "@jupyter-widgets/base",
            "_view_module_version": "1.2.0",
            "_view_name": "StyleView",
            "bar_color": null,
            "description_width": ""
          }
        },
        "434ead830afc4170bfd2aa516e78033c": {
          "model_module": "@jupyter-widgets/base",
          "model_name": "LayoutModel",
          "model_module_version": "1.2.0",
          "state": {
            "_model_module": "@jupyter-widgets/base",
            "_model_module_version": "1.2.0",
            "_model_name": "LayoutModel",
            "_view_count": null,
            "_view_module": "@jupyter-widgets/base",
            "_view_module_version": "1.2.0",
            "_view_name": "LayoutView",
            "align_content": null,
            "align_items": null,
            "align_self": null,
            "border": null,
            "bottom": null,
            "display": null,
            "flex": null,
            "flex_flow": null,
            "grid_area": null,
            "grid_auto_columns": null,
            "grid_auto_flow": null,
            "grid_auto_rows": null,
            "grid_column": null,
            "grid_gap": null,
            "grid_row": null,
            "grid_template_areas": null,
            "grid_template_columns": null,
            "grid_template_rows": null,
            "height": null,
            "justify_content": null,
            "justify_items": null,
            "left": null,
            "margin": null,
            "max_height": null,
            "max_width": null,
            "min_height": null,
            "min_width": null,
            "object_fit": null,
            "object_position": null,
            "order": null,
            "overflow": null,
            "overflow_x": null,
            "overflow_y": null,
            "padding": null,
            "right": null,
            "top": null,
            "visibility": null,
            "width": null
          }
        },
        "a81d67c47e814fc89b37def9797455d5": {
          "model_module": "@jupyter-widgets/controls",
          "model_name": "DescriptionStyleModel",
          "model_module_version": "1.5.0",
          "state": {
            "_model_module": "@jupyter-widgets/controls",
            "_model_module_version": "1.5.0",
            "_model_name": "DescriptionStyleModel",
            "_view_count": null,
            "_view_module": "@jupyter-widgets/base",
            "_view_module_version": "1.2.0",
            "_view_name": "StyleView",
            "description_width": ""
          }
        }
      }
    }
  },
  "cells": [
    {
      "cell_type": "markdown",
      "source": [
        "---\n",
        "date:\n",
        "  created: 2025-03-26\n",
        "  updated: 2025-03-26\n",
        "\n",
        "categories:\n",
        "- Miscellany\n",
        "\n",
        "tags:\n",
        "- REST API\n",
        "\n",
        "slug: get-github-repo-issues-comments\n",
        "---\n",
        "\n",
        "# Getting GitHub repo issues and comments\n",
        "\n",
        "This post is about getting paginated data of issues and comments in a repository\n",
        "through [:material-github: GitHub REST API][1].\n",
        "This is the first part of my adaptation of the tutorial\n",
        "[:simple-huggingface: Hugging Face NLP Course: Creating your own dataset][2],\n",
        "which creates a dataset of GitHub repository issues for semantic search.\n",
        "\n",
        "<a href=\"https://colab.research.google.com/github/dd-n-kk/notebooks/blob/main/blog/get-github-repo-issues-comments.ipynb\" target=\"_parent\">\n",
        "    :simple-googlecolab: Open in Colab\n",
        "</a>\n",
        "\n",
        "<!-- more -->"
      ],
      "metadata": {
        "id": "kWcuIqFh5FUG"
      }
    },
    {
      "cell_type": "markdown",
      "source": [
        "## Preparations\n",
        "\n",
        "We use the [:simple-uv: astral-sh/uv][6] repository as an example:"
      ],
      "metadata": {
        "id": "S2ApArv_AlE4"
      }
    },
    {
      "cell_type": "code",
      "source": [
        "from google.colab import userdata\n",
        "\n",
        "SECRET = \"GH_TOKEN\"\n",
        "REPO = \"astral-sh/uv\""
      ],
      "metadata": {
        "id": "s9hmKAAcCVds"
      },
      "execution_count": 4,
      "outputs": []
    },
    {
      "cell_type": "markdown",
      "source": [
        "## Getting paginated data from GitHub REST API\n",
        "\n",
        "The Hugging Face tutorial gets comments [issue by issue][3], which is certainly viable\n",
        "but costs as many requests as the number of issues in the repository,\n",
        "which often surpasses even an authenticated quota of [5000][5] requests per hour.\n",
        "\n",
        "Alternatively, we can use the paginated [repository issue comments endpoint][4]\n",
        "to get up to 100 comments per request.\n",
        "This also allows getting issues and comments data in a unified approach:"
      ],
      "metadata": {
        "id": "5-xmQuPwesI8"
      }
    },
    {
      "cell_type": "code",
      "source": [
        "import re\n",
        "import sys\n",
        "from datetime import datetime\n",
        "from typing import Any, Literal\n",
        "\n",
        "import requests\n",
        "from requests import Response\n",
        "from tqdm.auto import tqdm\n",
        "\n",
        "\n",
        "def get_paginated(\n",
        "    route: str,\n",
        "    start_page: int = 1,\n",
        "    end_page: int | None = None,  # None: Make requests until the last page.\n",
        "    *,\n",
        "    token: str | None = None,\n",
        "    **query: Any,\n",
        ") -> tuple[list[dict[str, Any]], Response]:\n",
        "    if start_page < 1 or (end_page is not None and end_page < start_page):\n",
        "        raise ValueError(f\"Invalid page range: [{start_page}, {end_page}]\")\n",
        "\n",
        "    headers = {\"Authorization\": f\"token {token}\"} if token else None\n",
        "    query |= {\"page\": start_page}\n",
        "    q = \"&\".join(f\"{k}={v}\" for k, v in query.items() if v is not None)\n",
        "\n",
        "    results = []\n",
        "    with requests.Session() as session:\n",
        "        response = session.get(f\"https://api.github.com{route}?{q}\", headers=headers)\n",
        "        if response.status_code != 200:\n",
        "            print(f\"{response.status_code}: {response.reason}\", file=sys.stderr)\n",
        "            return results, response\n",
        "\n",
        "        results.extend(response.json())\n",
        "        links = parse_link_header(response)\n",
        "        end_page = _revise_end_page(start_page, end_page, response, links)\n",
        "        if end_page <= start_page:\n",
        "            return results, response\n",
        "\n",
        "        with tqdm(total=end_page - start_page + 1) as progress:\n",
        "            progress.update(1)\n",
        "            while \"next\" in links:\n",
        "                response = session.get(links[\"next\"], headers=headers)\n",
        "                if response.status_code != 200:\n",
        "                    print(f\"{response.status_code}: {response.reason}\", file=sys.stderr)\n",
        "                    break\n",
        "\n",
        "                results.extend(response.json())\n",
        "                links = parse_link_header(response)\n",
        "                progress.update(1)\n",
        "\n",
        "    return results, response\n",
        "\n",
        "\n",
        "def parse_link_header(response: Response) -> dict[str, str]:\n",
        "    links = requests.utils.parse_header_links(response.headers[\"Link\"])\n",
        "    return {link[\"rel\"]: link[\"url\"] for link in links}\n",
        "\n",
        "\n",
        "def _revise_end_page(\n",
        "    start_page: int, end_page: int | None, response: Response, links: dict[str, str]\n",
        ") -> int:\n",
        "    if not (\"last\" in links and (m := re.search(r\"(?:[?&]page=(\\d+))\", links[\"last\"]))):\n",
        "        return start_page\n",
        "\n",
        "    last = int(m.group(1))\n",
        "    limit = start_page + int(response.headers[\"X-RateLimit-Remaining\"])\n",
        "\n",
        "    return min(last, limit) if end_page is None else min(last, limit, end_page)"
      ],
      "metadata": {
        "id": "Tv7cMsN40tBa"
      },
      "execution_count": 1,
      "outputs": []
    },
    {
      "cell_type": "code",
      "source": [
        "def show_rate_limit(response: Response) -> None:\n",
        "    h = response.headers\n",
        "    reset_time = datetime.fromtimestamp(int(h[\"X-RateLimit-Reset\"]))\n",
        "    now = datetime.now()\n",
        "    if reset_time > now:\n",
        "        print(\n",
        "            f\"Requests remaining: {h['X-RateLimit-Remaining']}/{h['X-RateLimit-Limit']}\"\n",
        "            f\"\\nTime until reset: {str(reset_time - now).split('.')[0]}\",\n",
        "        )\n",
        "    else:\n",
        "        print(\"The rate limit has been reset.\")"
      ],
      "metadata": {
        "id": "84BpgqlY6dvJ"
      },
      "execution_count": 2,
      "outputs": []
    },
    {
      "cell_type": "markdown",
      "source": [
        "## Caveats and workarounds\n",
        "\n"
      ],
      "metadata": {
        "id": "NTxQg3lQ1X-9"
      }
    },
    {
      "cell_type": "markdown",
      "source": [
        "Unfortunately, GitHub seems to impose a 300-page limit on paginated query results.\n",
        "To get more than 30000 issue comments, a workaround is to query for time-sorted entries\n",
        "and restrict the query range with the `since` parameter.\n",
        "However, because `since` is based on the last update time,\n",
        "we should set `sort` and `direction` accordingly to best avoid overlaps between queries.\n",
        "\n",
        "The wrapper interfaces and their usage are as follows:"
      ],
      "metadata": {
        "id": "Ebz__grr_HMA"
      }
    },
    {
      "cell_type": "code",
      "source": [
        "# https://docs.github.com/en/rest/issues/issues#list-repository-issues\n",
        "def get_issues(\n",
        "    repo: str,\n",
        "    start_page: int = 1,\n",
        "    end_page: int | None = None,\n",
        "    *,\n",
        "    token: str | None = None,\n",
        "    per_page: int = 100,\n",
        "    state: Literal[\"all\", \"open\", \"closed\"] = \"all\",\n",
        "    sort: Literal[\"created\", \"updated\", \"comments\"] = \"created\",\n",
        "    direction: Literal[\"asc\", \"desc\"] = \"desc\",\n",
        "    since: str | None = None,  # ⟨YYYY⟩-⟨MM⟩-⟨DD⟩T⟨hh⟩-⟨mm⟩-⟨ss⟩Z\n",
        "    **query: Any,\n",
        ") -> tuple[list[dict[str, Any]], Response]:\n",
        "    return get_paginated(\n",
        "        f\"/repos/{repo}/issues\",\n",
        "        start_page=start_page,\n",
        "        end_page=end_page,\n",
        "        token=token,\n",
        "        per_page=per_page,\n",
        "        state=state,\n",
        "        sort=sort,\n",
        "        direction=direction,\n",
        "        since=since,\n",
        "        **query,\n",
        "    )\n",
        "\n",
        "\n",
        "# https://docs.github.com/en/rest/issues/comments#list-issue-comments-for-a-repository\n",
        "def get_issue_comments(\n",
        "    repo: str,\n",
        "    start_page: int = 1,\n",
        "    end_page: int | None = None,\n",
        "    *,\n",
        "    token: str | None = None,\n",
        "    per_page: int = 100,\n",
        "    sort: Literal[\"created\", \"updated\"] = \"created\",\n",
        "    direction: Literal[\"asc\", \"desc\"] = \"desc\",\n",
        "    since: str | None = None,  # ⟨YYYY⟩-⟨MM⟩-⟨DD⟩T⟨hh⟩-⟨mm⟩-⟨ss⟩Z\n",
        "    **query: Any,\n",
        ") -> tuple[list[dict[str, Any]], Response]:\n",
        "    return get_paginated(\n",
        "        f\"/repos/{repo}/issues/comments\",\n",
        "        start_page=start_page,\n",
        "        end_page=end_page,\n",
        "        token=token,\n",
        "        per_page=per_page,\n",
        "        sort=sort,\n",
        "        direction=direction,\n",
        "        since=since,\n",
        "        **query,\n",
        "    )"
      ],
      "metadata": {
        "id": "4KwjEAR_33uy"
      },
      "execution_count": 3,
      "outputs": []
    },
    {
      "cell_type": "code",
      "source": [
        "issues, response = get_issues(\n",
        "    REPO,\n",
        "    token=userdata.get(SECRET) if SECRET else None,\n",
        "    state=\"all\",\n",
        "    sort=\"updated\",\n",
        "    direction=\"asc\",\n",
        ")"
      ],
      "metadata": {
        "colab": {
          "base_uri": "https://localhost:8080/",
          "height": 49,
          "referenced_widgets": [
            "989afcbfae504e27b1ac61f7b2b783fc",
            "ad90173218c04852948e87ef997efbe1",
            "70a26c9375a244a780d785c9ccd455ea",
            "5e3144e0a6af4b31aa6b4620318e40a4",
            "812ace5c9b824f15a282bd70292eb60c",
            "8c6d789f9cf64b27a6b1739839a2ca53",
            "1d5cddc8a3504e3589c413e441f457c4",
            "e5e1d1aac59b42648f266b6f20640a4b",
            "c819cdce94874baba4214274cec2ef9e",
            "65bed23f51c64f33ae90f8c507ae96b0",
            "edc5b7f75fee4b2fa330faafc91de065"
          ]
        },
        "id": "7yUNHY2IAC5W",
        "outputId": "d84f60ce-278d-4b0b-8d1e-22d300bd0e71"
      },
      "execution_count": 5,
      "outputs": [
        {
          "output_type": "display_data",
          "data": {
            "text/plain": [
              "  0%|          | 0/125 [00:00<?, ?it/s]"
            ],
            "application/vnd.jupyter.widget-view+json": {
              "version_major": 2,
              "version_minor": 0,
              "model_id": "989afcbfae504e27b1ac61f7b2b783fc"
            }
          },
          "metadata": {}
        }
      ]
    },
    {
      "cell_type": "code",
      "source": [
        "show_rate_limit(response)"
      ],
      "metadata": {
        "colab": {
          "base_uri": "https://localhost:8080/"
        },
        "id": "GwPh2Pz5C0G1",
        "outputId": "4f700eff-4042-4176-d55b-85ee717cea1e"
      },
      "execution_count": 6,
      "outputs": [
        {
          "output_type": "stream",
          "name": "stdout",
          "text": [
            "Requests remaining: 4875/5000\n",
            "Time until reset: 0:58:30\n"
          ]
        }
      ]
    },
    {
      "cell_type": "code",
      "source": [
        "comments, response = get_issue_comments(\n",
        "    REPO,\n",
        "    token=userdata.get(SECRET) if SECRET else None,\n",
        "    sort=\"updated\",\n",
        "    direction=\"asc\",\n",
        ")"
      ],
      "metadata": {
        "colab": {
          "base_uri": "https://localhost:8080/",
          "height": 49,
          "referenced_widgets": [
            "f603ae4cefef42a999dc1d0ebf18b931",
            "bd03b38ff40a49af85773cf83066b381",
            "1a6e5d3023d94cafb889b77e75ae4ca1",
            "4d19da8c7b5e48bd9c30fd02b129f8f6",
            "b91c47b7b5a7443885fed4a7d4d4205d",
            "e03fdfdb9cce4d349fd738900a05747b",
            "91587287ac8b47c08259e6edfcec5efb",
            "6ffcd83287bb48b7839b55e56af09f27",
            "8a96803ba35e456baa9bb2f9153d1158",
            "1a207e61dfa44e1a920999ba0b932613",
            "5a37c9885afa4fc7b335f723fb22204f"
          ]
        },
        "id": "_N7zKYVYCkRZ",
        "outputId": "f7598b08-5d6b-45e7-d646-cca78552c8b1"
      },
      "execution_count": 7,
      "outputs": [
        {
          "output_type": "display_data",
          "data": {
            "text/plain": [
              "  0%|          | 0/300 [00:00<?, ?it/s]"
            ],
            "application/vnd.jupyter.widget-view+json": {
              "version_major": 2,
              "version_minor": 0,
              "model_id": "f603ae4cefef42a999dc1d0ebf18b931"
            }
          },
          "metadata": {}
        }
      ]
    },
    {
      "cell_type": "code",
      "source": [
        "comments[-1][\"updated_at\"]"
      ],
      "metadata": {
        "colab": {
          "base_uri": "https://localhost:8080/",
          "height": 35
        },
        "id": "TJ2XdwrbEJWq",
        "outputId": "dfdb5d78-c2fa-47bf-a031-4d84b487d0ec"
      },
      "execution_count": 11,
      "outputs": [
        {
          "output_type": "execute_result",
          "data": {
            "text/plain": [
              "'2025-02-06T23:52:33Z'"
            ],
            "application/vnd.google.colaboratory.intrinsic+json": {
              "type": "string"
            }
          },
          "metadata": {},
          "execution_count": 11
        }
      ]
    },
    {
      "cell_type": "code",
      "source": [
        "comments_2, response = get_issue_comments(\n",
        "    REPO,\n",
        "    token=userdata.get(SECRET) if SECRET else None,\n",
        "    sort=\"updated\",\n",
        "    direction=\"asc\",\n",
        "    since=\"2025-02-06T23:52:34Z\",\n",
        ")"
      ],
      "metadata": {
        "colab": {
          "base_uri": "https://localhost:8080/",
          "height": 49,
          "referenced_widgets": [
            "6ced099f43474c6abb00eb7aa2d6b9e3",
            "3c061db2a36941faa3e1a4d32f56073f",
            "5d703bab28fb4b5c8667d7d70ee7a360",
            "c66c542e9cd748cea34980e64164996b",
            "ec329e8adffe4d08ac8a452414015ce1",
            "aca80c413af6431c8d07766883f60bc8",
            "65b1e2b2288140e4be8aa9550bb259d5",
            "800a3d1d99a84d1ea131a065407819c1",
            "e85f75d70527406096e728f632a0f2fd",
            "434ead830afc4170bfd2aa516e78033c",
            "a81d67c47e814fc89b37def9797455d5"
          ]
        },
        "id": "FdpwcyCUD0BM",
        "outputId": "c437e8f1-b421-4b25-a9f6-23cd0aed36e6"
      },
      "execution_count": 12,
      "outputs": [
        {
          "output_type": "display_data",
          "data": {
            "text/plain": [
              "  0%|          | 0/40 [00:00<?, ?it/s]"
            ],
            "application/vnd.jupyter.widget-view+json": {
              "version_major": 2,
              "version_minor": 0,
              "model_id": "6ced099f43474c6abb00eb7aa2d6b9e3"
            }
          },
          "metadata": {}
        }
      ]
    },
    {
      "cell_type": "code",
      "source": [
        "comments.extend(comments_2)"
      ],
      "metadata": {
        "id": "3f0-IUd8E3pI"
      },
      "execution_count": 13,
      "outputs": []
    },
    {
      "cell_type": "code",
      "source": [
        "show_rate_limit(response)"
      ],
      "metadata": {
        "colab": {
          "base_uri": "https://localhost:8080/"
        },
        "id": "_HKfCnH3E_Gt",
        "outputId": "be6f6722-2d2a-409e-fd7b-5890e2d6ef67"
      },
      "execution_count": 14,
      "outputs": [
        {
          "output_type": "stream",
          "name": "stdout",
          "text": [
            "Requests remaining: 4535/5000\n",
            "Time until reset: 0:49:19\n"
          ]
        }
      ]
    },
    {
      "cell_type": "markdown",
      "source": [
        "## Saving query results as JSON Lines"
      ],
      "metadata": {
        "id": "5edVvukBFHPg"
      }
    },
    {
      "cell_type": "code",
      "source": [
        "import json\n",
        "from collections.abc import Iterable\n",
        "from typing import Any\n",
        "\n",
        "\n",
        "def load_jsonl(path: str) -> list[Any]:\n",
        "    with open(path, \"r\") as file:\n",
        "        return [json.loads(line) for line in file]\n",
        "\n",
        "\n",
        "def save_jsonl(objs: Iterable[Any], path: str, mode: str = \"a\") -> None:\n",
        "    with open(path, mode=mode) as file:\n",
        "        for obj in objs:\n",
        "            file.write(json.dumps(obj) + \"\\n\")"
      ],
      "metadata": {
        "id": "AUKhkLIgHIdq"
      },
      "execution_count": 16,
      "outputs": []
    },
    {
      "cell_type": "code",
      "source": [
        "save_jsonl(issues, \"issues.jsonl\")\n",
        "save_jsonl(comments, \"comments.jsonl\")"
      ],
      "metadata": {
        "id": "YvSAreavHPQr"
      },
      "execution_count": 17,
      "outputs": []
    },
    {
      "cell_type": "code",
      "source": [
        "assert issues == load_jsonl(\"issues.jsonl\")\n",
        "assert comments == load_jsonl(\"comments.jsonl\")"
      ],
      "metadata": {
        "id": "zh7JRc9UHXUL"
      },
      "execution_count": 18,
      "outputs": []
    },
    {
      "cell_type": "markdown",
      "source": [
        "[1]: https://docs.github.com/en/rest\n",
        "[2]: https://huggingface.co/learn/nlp-course/en/chapter5/5\n",
        "[3]: https://docs.github.com/en/rest/issues/comments?#list-issue-comments\n",
        "[4]: https://docs.github.com/en/rest/issues/comments?#list-issue-comments-for-a-repository\n",
        "[5]: https://docs.github.com/en/rest/using-the-rest-api/rate-limits-for-the-rest-api?#primary-rate-limit-for-authenticated-users\n",
        "[6]: https://github.com/astral-sh/uv"
      ],
      "metadata": {
        "id": "Z_hwqyRFj8Fg"
      }
    }
  ]
}